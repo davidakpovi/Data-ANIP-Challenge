{
 "cells": [
  {
   "cell_type": "markdown",
   "id": "68f898dc-86af-4c7d-bc1d-9a92b29b5076",
   "metadata": {},
   "source": [
    "# Notebook — Tâche 3 : Exploration & Analyse\n",
    "Objectif: Cette tâche vise à transformer des données enrichies en outils décisionnels interactifs et percutants."
   ]
  },
  {
   "cell_type": "code",
   "execution_count": 13,
   "id": "75cb3680-8d01-4c6b-b921-e36f1a1bceb8",
   "metadata": {},
   "outputs": [
    {
     "name": "stdout",
     "output_type": "stream",
     "text": [
      "BASE : /Users/davidakpovi/challenge_tache1_ANIP\n",
      "Fichier enrichi présent : True\n",
      "Fichier core présent : True\n"
     ]
    }
   ],
   "source": [
    "# 1\n",
    "# Importation des bibliothèques et définition des chemins\n",
    "# Objectif :\n",
    "#   - Importer toutes les librairies nécessaires pour la visualisation et l’analyse exploratoire.\n",
    "#   - Vérifier la disponibilité de Plotly (graphiques interactifs) et définir un indicateur logique (PLOTLY_AVAILABLE).\n",
    "#   - Définir les chemins de base du projet pour accéder facilement aux fichiers exportés de la Tâche 2.\n",
    "# Détails :\n",
    "#   - Si Plotly n’est pas installé, le code continue sans erreur et utilise uniquement Matplotlib.\n",
    "#   - BASE correspond au dossier principal du projet.\n",
    "#   - PROCESSED contient les fichiers traités et enrichis des tâches précédentes.\n",
    "# Sorties :\n",
    "#   - Messages de vérification confirmant la présence des fichiers enrichis et du dataset core.\n",
    "\n",
    "# Importation des bibliothèques nécessaires\n",
    "from pathlib import Path\n",
    "import pandas as pd\n",
    "import numpy as np\n",
    "import matplotlib.pyplot as plt\n",
    "\n",
    "# Importation facultative de Plotly (pour les graphiques interactifs)\n",
    "try:\n",
    "    import plotly.express as px\n",
    "    PLOTLY_AVAILABLE = True\n",
    "except Exception as e:\n",
    "    PLOTLY_AVAILABLE = False\n",
    "    print(\"[INFO] Plotly n'est pas installé (utilisez : pip install plotly)\")\n",
    "\n",
    "# Définition des chemins de base\n",
    "BASE = Path(\"/Users/davidakpovi/challenge_tache1_ANIP\")\n",
    "PROCESSED = BASE / \"data\" / \"processed\"\n",
    "\n",
    "# Fichiers attendus\n",
    "ENRICHED_PATH = PROCESSED / \"dataset_final_enriched.csv\"\n",
    "CORE_PATH     = PROCESSED / \"dataset_final_core.csv\"\n",
    "\n",
    "print(\"BASE :\", BASE)\n",
    "print(\"Fichier enrichi présent :\", ENRICHED_PATH.exists())\n",
    "print(\"Fichier core présent :\", CORE_PATH.exists())\n"
   ]
  },
  {
   "cell_type": "code",
   "execution_count": 14,
   "id": "6fd621d2-a122-474b-ab91-1b10449236ea",
   "metadata": {},
   "outputs": [
    {
     "name": "stdout",
     "output_type": "stream",
     "text": [
      "Source utilisée : enriched | Dimensions : (65, 11)\n"
     ]
    },
    {
     "data": {
      "text/html": [
       "<div>\n",
       "<style scoped>\n",
       "    .dataframe tbody tr th:only-of-type {\n",
       "        vertical-align: middle;\n",
       "    }\n",
       "\n",
       "    .dataframe tbody tr th {\n",
       "        vertical-align: top;\n",
       "    }\n",
       "\n",
       "    .dataframe thead th {\n",
       "        text-align: right;\n",
       "    }\n",
       "</style>\n",
       "<table border=\"1\" class=\"dataframe\">\n",
       "  <thead>\n",
       "    <tr style=\"text-align: right;\">\n",
       "      <th></th>\n",
       "      <th>iso3</th>\n",
       "      <th>year</th>\n",
       "      <th>population_total</th>\n",
       "      <th>gdp_current_usd</th>\n",
       "      <th>gdp_real_growth_pct</th>\n",
       "      <th>life_expectancy_years</th>\n",
       "      <th>maternal_mortality_ratio</th>\n",
       "      <th>population_growth_pct</th>\n",
       "      <th>gdp_per_capita_usd</th>\n",
       "      <th>dev_index</th>\n",
       "      <th>decade</th>\n",
       "    </tr>\n",
       "  </thead>\n",
       "  <tbody>\n",
       "    <tr>\n",
       "      <th>0</th>\n",
       "      <td>BEN</td>\n",
       "      <td>1960</td>\n",
       "      <td>2517286</td>\n",
       "      <td>2.261956e+08</td>\n",
       "      <td>NaN</td>\n",
       "      <td>38.775</td>\n",
       "      <td>NaN</td>\n",
       "      <td>NaN</td>\n",
       "      <td>89.856925</td>\n",
       "      <td>0.546007</td>\n",
       "      <td>1960</td>\n",
       "    </tr>\n",
       "    <tr>\n",
       "      <th>1</th>\n",
       "      <td>BEN</td>\n",
       "      <td>1961</td>\n",
       "      <td>2559223</td>\n",
       "      <td>2.356682e+08</td>\n",
       "      <td>3.141280</td>\n",
       "      <td>39.233</td>\n",
       "      <td>NaN</td>\n",
       "      <td>1.665961</td>\n",
       "      <td>92.085848</td>\n",
       "      <td>0.549051</td>\n",
       "      <td>1960</td>\n",
       "    </tr>\n",
       "    <tr>\n",
       "      <th>2</th>\n",
       "      <td>BEN</td>\n",
       "      <td>1962</td>\n",
       "      <td>2604659</td>\n",
       "      <td>2.364350e+08</td>\n",
       "      <td>-3.426410</td>\n",
       "      <td>39.643</td>\n",
       "      <td>NaN</td>\n",
       "      <td>1.775383</td>\n",
       "      <td>90.773861</td>\n",
       "      <td>0.550986</td>\n",
       "      <td>1960</td>\n",
       "    </tr>\n",
       "    <tr>\n",
       "      <th>3</th>\n",
       "      <td>BEN</td>\n",
       "      <td>1963</td>\n",
       "      <td>2652908</td>\n",
       "      <td>2.539277e+08</td>\n",
       "      <td>4.730028</td>\n",
       "      <td>40.081</td>\n",
       "      <td>NaN</td>\n",
       "      <td>1.852411</td>\n",
       "      <td>95.716737</td>\n",
       "      <td>0.554569</td>\n",
       "      <td>1960</td>\n",
       "    </tr>\n",
       "    <tr>\n",
       "      <th>4</th>\n",
       "      <td>BEN</td>\n",
       "      <td>1964</td>\n",
       "      <td>2704003</td>\n",
       "      <td>2.698190e+08</td>\n",
       "      <td>6.650759</td>\n",
       "      <td>40.502</td>\n",
       "      <td>NaN</td>\n",
       "      <td>1.926000</td>\n",
       "      <td>99.785025</td>\n",
       "      <td>0.557850</td>\n",
       "      <td>1960</td>\n",
       "    </tr>\n",
       "  </tbody>\n",
       "</table>\n",
       "</div>"
      ],
      "text/plain": [
       "  iso3  year  population_total  gdp_current_usd  gdp_real_growth_pct  \\\n",
       "0  BEN  1960           2517286     2.261956e+08                  NaN   \n",
       "1  BEN  1961           2559223     2.356682e+08             3.141280   \n",
       "2  BEN  1962           2604659     2.364350e+08            -3.426410   \n",
       "3  BEN  1963           2652908     2.539277e+08             4.730028   \n",
       "4  BEN  1964           2704003     2.698190e+08             6.650759   \n",
       "\n",
       "   life_expectancy_years  maternal_mortality_ratio  population_growth_pct  \\\n",
       "0                 38.775                       NaN                    NaN   \n",
       "1                 39.233                       NaN               1.665961   \n",
       "2                 39.643                       NaN               1.775383   \n",
       "3                 40.081                       NaN               1.852411   \n",
       "4                 40.502                       NaN               1.926000   \n",
       "\n",
       "   gdp_per_capita_usd  dev_index  decade  \n",
       "0           89.856925   0.546007    1960  \n",
       "1           92.085848   0.549051    1960  \n",
       "2           90.773861   0.550986    1960  \n",
       "3           95.716737   0.554569    1960  \n",
       "4           99.785025   0.557850    1960  "
      ]
     },
     "metadata": {},
     "output_type": "display_data"
    }
   ],
   "source": [
    "# 2\n",
    "# Chargement du jeu de données enrichi, ou du dataset core si le premier n’existe pas, pour la visualisation\n",
    "# Objectif :\n",
    "#   - Importer le dataset enrichi produit à la Tâche 2 (incluant les indicateurs calculés et agrégations).\n",
    "#   - Utiliser le dataset core comme solution de repli s’il n’existe pas de fichier enrichi.\n",
    "# Détails :\n",
    "#   - Lecture du fichier CSV avec pandas (`read_csv`).\n",
    "#   - Si aucun des deux fichiers n’est trouvé, une erreur explicite est levée pour signaler\n",
    "#     qu’il faut exécuter les tâches précédentes.\n",
    "#   - L’affichage permet de vérifier la structure du jeu de données chargé.\n",
    "# Sorties :\n",
    "#   - Variable `df` : contient le DataFrame principal utilisé pour toutes les visualisations.\n",
    "#   - Variable `source_used` : indique la source utilisée ('enriched' ou 'core').\n",
    "#   - Aperçu visuel : dimensions du dataset et aperçu des premières lignes.\n",
    "\n",
    "if ENRICHED_PATH.exists():\n",
    "    df = pd.read_csv(ENRICHED_PATH)\n",
    "    source_used = \"enriched\"\n",
    "elif CORE_PATH.exists():\n",
    "    df = pd.read_csv(CORE_PATH)\n",
    "    source_used = \"core\"\n",
    "else:\n",
    "    raise FileNotFoundError(\"Aucun fichier trouvé. Exécutez d'abord les Tâches 1 et 2.\")\n",
    "\n",
    "print(\"Source utilisée :\", source_used, \"| Dimensions :\", df.shape)\n",
    "display(df.head())\n",
    "\n"
   ]
  },
  {
   "cell_type": "code",
   "execution_count": 15,
   "id": "853aa20e-d7ca-409c-b74e-3dc2e05e1cca",
   "metadata": {},
   "outputs": [
    {
     "name": "stdout",
     "output_type": "stream",
     "text": [
      "Années couvertes : 1960 → 2024\n"
     ]
    }
   ],
   "source": [
    "# 3\n",
    "#Nettoyage léger : tri par année, types numériques, suppression des doublons\n",
    "# Objectif :\n",
    "#   - S’assurer que les données sont prêtes pour l’analyse graphique et les agrégations.\n",
    "#   - Corriger les éventuels problèmes de types, d’ordre chronologique et de doublons.\n",
    "# Étapes :\n",
    "#   1. Tri du DataFrame par année pour garantir une chronologie cohérente.\n",
    "#   2. Conversion de la colonne 'year' en entier (utile pour les tracés temporels).\n",
    "#   3. Conversion de toutes les colonnes numériques clés (PIB, population, etc.) \n",
    "#      en format numérique, afin d’éviter les erreurs de type lors des calculs.\n",
    "#   4. Suppression des doublons potentiels sur les clés principales ('iso3', 'year').\n",
    "# Sorties :\n",
    "#   - Dataset propre et prêt pour les visualisations.\n",
    "#   - Message d’information sur la suppression éventuelle de doublons.\n",
    "#   - Affichage de la plage temporelle couverte par les données.\n",
    "\n",
    "\n",
    "# Tri du dataset par année et conversion des types\n",
    "if \"year\" in df.columns:\n",
    "    df = df.sort_values(\"year\")\n",
    "    # Conversion de la colonne 'year' en entier (au cas où elle serait lue comme du texte)\n",
    "    df[\"year\"] = pd.to_numeric(df[\"year\"], errors=\"coerce\").astype(\"Int64\")\n",
    "\n",
    "# Conversion en valeurs numériques pour les indicateurs clés\n",
    "colonnes_numeriques = [\n",
    "    \"population_total\",\"gdp_current_usd\",\"gdp_real_growth_pct\",\n",
    "    \"life_expectancy_years\",\"maternal_mortality_ratio\",\n",
    "    \"gdp_per_capita_usd\",\"population_growth_pct\",\"dev_index\"\n",
    "]\n",
    "for c in [c for c in colonnes_numeriques if c in df.columns]:\n",
    "    df[c] = pd.to_numeric(df[c], errors=\"coerce\")\n",
    "\n",
    "# Suppression des doublons éventuels\n",
    "cles = [c for c in [\"iso3\",\"year\"] if c in df.columns]\n",
    "if cles:\n",
    "    avant = df.shape[0]\n",
    "    df = df.drop_duplicates(subset=cles)\n",
    "    apres = df.shape[0]\n",
    "    if apres != avant:\n",
    "        print(f\"[INFO] {avant - apres} doublons supprimés.\")\n",
    "\n",
    "print(\"Années couvertes :\", int(df[\"year\"].min()) if \"year\" in df else \"N/A\",\n",
    "      \"→\", int(df[\"year\"].max()) if \"year\" in df else \"N/A\")\n"
   ]
  },
  {
   "cell_type": "code",
   "execution_count": 16,
   "id": "99658fe4-0f82-4ee9-9916-20ea2a20bbdb",
   "metadata": {},
   "outputs": [
    {
     "data": {
      "text/html": [
       "<div>\n",
       "<style scoped>\n",
       "    .dataframe tbody tr th:only-of-type {\n",
       "        vertical-align: middle;\n",
       "    }\n",
       "\n",
       "    .dataframe tbody tr th {\n",
       "        vertical-align: top;\n",
       "    }\n",
       "\n",
       "    .dataframe thead th {\n",
       "        text-align: right;\n",
       "    }\n",
       "</style>\n",
       "<table border=\"1\" class=\"dataframe\">\n",
       "  <thead>\n",
       "    <tr style=\"text-align: right;\">\n",
       "      <th></th>\n",
       "      <th>Indicateur</th>\n",
       "      <th>Valeur</th>\n",
       "    </tr>\n",
       "  </thead>\n",
       "  <tbody>\n",
       "    <tr>\n",
       "      <th>0</th>\n",
       "      <td>Année la plus récente</td>\n",
       "      <td>2024</td>\n",
       "    </tr>\n",
       "    <tr>\n",
       "      <th>1</th>\n",
       "      <td>Population totale</td>\n",
       "      <td>14 462 724</td>\n",
       "    </tr>\n",
       "    <tr>\n",
       "      <th>2</th>\n",
       "      <td>PIB (USD courants)</td>\n",
       "      <td>21 482 643 720</td>\n",
       "    </tr>\n",
       "    <tr>\n",
       "      <th>3</th>\n",
       "      <td>PIB par habitant (USD)</td>\n",
       "      <td>1 485</td>\n",
       "    </tr>\n",
       "    <tr>\n",
       "      <th>4</th>\n",
       "      <td>Espérance de vie (ans)</td>\n",
       "      <td>nan</td>\n",
       "    </tr>\n",
       "    <tr>\n",
       "      <th>5</th>\n",
       "      <td>Croissance PIB réel (%)</td>\n",
       "      <td>7.5</td>\n",
       "    </tr>\n",
       "    <tr>\n",
       "      <th>6</th>\n",
       "      <td>Mortalité maternelle</td>\n",
       "      <td>nan</td>\n",
       "    </tr>\n",
       "    <tr>\n",
       "      <th>7</th>\n",
       "      <td>Indice composite (0–1)</td>\n",
       "      <td>0.67</td>\n",
       "    </tr>\n",
       "  </tbody>\n",
       "</table>\n",
       "</div>"
      ],
      "text/plain": [
       "                Indicateur          Valeur\n",
       "0    Année la plus récente            2024\n",
       "1        Population totale      14 462 724\n",
       "2       PIB (USD courants)  21 482 643 720\n",
       "3   PIB par habitant (USD)           1 485\n",
       "4   Espérance de vie (ans)             nan\n",
       "5  Croissance PIB réel (%)             7.5\n",
       "6     Mortalité maternelle             nan\n",
       "7   Indice composite (0–1)            0.67"
      ]
     },
     "execution_count": 16,
     "metadata": {},
     "output_type": "execute_result"
    }
   ],
   "source": [
    "#4\n",
    "#Indicateurs Clés (KPI)\n",
    "# Objectif :\n",
    "#   - Fournir un résumé synthétique des principaux indicateurs socio-économiques\n",
    "#     à partir de la dernière année disponible dans les données.\n",
    "# Détails :\n",
    "#   1. Sélection de la ligne correspondant à l’année la plus récente.\n",
    "#   2. Formatage des valeurs pour un affichage lisible (espaces entre milliers, arrondis, etc.).\n",
    "#   3. Construction d’un tableau de synthèse regroupant les principaux KPI :\n",
    "#        • Population totale\n",
    "#        • PIB (USD courants)\n",
    "#        • PIB par habitant\n",
    "#        • Croissance du PIB réel (%)\n",
    "#        • Espérance de vie à la naissance\n",
    "#        • Mortalité maternelle\n",
    "#        • Indice composite de développement (si calculé à la Tâche 2)\n",
    "# Sorties :\n",
    "#   - Tableau récapitulatif `kpis` affiché en DataFrame pour une lecture rapide.\n",
    "#   - Sert de base à la section “Indicateurs Clés” d’un futur tableau de bord Power BI.\n",
    "\n",
    "\n",
    "# Sélection de la ligne correspondant à l’année la plus récente\n",
    "if \"year\" in df.columns:\n",
    "    derniere_ligne = df.dropna(subset=[\"year\"]).sort_values(\"year\").iloc[-1]\n",
    "else:\n",
    "    derniere_ligne = df.iloc[-1]\n",
    "\n",
    "# Fonctions d’affichage formaté\n",
    "def fmt_int(x):\n",
    "    try: return f\"{int(x):,}\".replace(\",\", \" \")\n",
    "    except: return \"—\"\n",
    "\n",
    "def fmt_float(x, nd=1):\n",
    "    try: return f\"{float(x):,.{nd}f}\".replace(\",\", \" \")\n",
    "    except: return \"—\"\n",
    "\n",
    "# Création du tableau de synthèse\n",
    "kpis = []\n",
    "kpis.append({\"Indicateur\":\"Année la plus récente\",        \"Valeur\": int(derniere_ligne[\"year\"]) if \"year\" in derniere_ligne else \"—\"})\n",
    "if \"population_total\" in df:       kpis.append({\"Indicateur\":\"Population totale\",      \"Valeur\": fmt_int(derniere_ligne.get(\"population_total\"))})\n",
    "if \"gdp_current_usd\" in df:        kpis.append({\"Indicateur\":\"PIB (USD courants)\",     \"Valeur\": fmt_int(derniere_ligne.get(\"gdp_current_usd\"))})\n",
    "if \"gdp_per_capita_usd\" in df:     kpis.append({\"Indicateur\":\"PIB par habitant (USD)\", \"Valeur\": fmt_float(derniere_ligne.get(\"gdp_per_capita_usd\"), 0)})\n",
    "if \"life_expectancy_years\" in df:  kpis.append({\"Indicateur\":\"Espérance de vie (ans)\", \"Valeur\": fmt_float(derniere_ligne.get(\"life_expectancy_years\"), 1)})\n",
    "if \"gdp_real_growth_pct\" in df:    kpis.append({\"Indicateur\":\"Croissance PIB réel (%)\",\"Valeur\": fmt_float(derniere_ligne.get(\"gdp_real_growth_pct\"), 1)})\n",
    "if \"maternal_mortality_ratio\" in df:kpis.append({\"Indicateur\":\"Mortalité maternelle\",  \"Valeur\": fmt_float(derniere_ligne.get(\"maternal_mortality_ratio\"), 0)})\n",
    "if \"dev_index\" in df:              kpis.append({\"Indicateur\":\"Indice composite (0–1)\", \"Valeur\": fmt_float(derniere_ligne.get(\"dev_index\"), 2)})\n",
    "\n",
    "# Affichage du tableau récapitulatif\n",
    "pd.DataFrame(kpis)\n"
   ]
  },
  {
   "cell_type": "code",
   "execution_count": 26,
   "id": "4ea0d791-9891-442b-b2d5-e0e918c77f1c",
   "metadata": {},
   "outputs": [
    {
     "data": {
      "image/png": "[encoded data removed]",
      "text/plain": [
       "<Figure size 800x500 with 1 Axes>"
      ]
     },
     "metadata": {},
     "output_type": "display_data"
    },
    {
     "name": "stdout",
     "output_type": "stream",
     "text": [
      "Figure KPI enregistrée : /Users/davidakpovi/challenge_tache1_ANIP/data/processed/figs_tache3/kpi_overview.png\n"
     ]
    }
   ],
   "source": [
    "#5\n",
    "# Figure Matplotlib type\n",
    "# Objectif :\n",
    "#   - Présenter les KPI sous forme visuelle, propre et exportable en PNG.\n",
    "\n",
    "# Dossier d’export des figures\n",
    "FIGS_DIR = PROCESSED / \"figs_tache3\"\n",
    "FIGS_DIR.mkdir(parents=True, exist_ok=True)\n",
    "\n",
    "# Mise en page “cartes”\n",
    "fig, ax = plt.subplots(figsize=(8, 5))\n",
    "ax.axis(\"off\")\n",
    "\n",
    "title = \"Indicateurs clés du développement\"\n",
    "ax.set_title(title, fontsize=14, fontweight=\"bold\", pad=16)\n",
    "\n",
    "# Paramètres d’affichage\n",
    "y = 0.9\n",
    "line_height = 0.12\n",
    "label_x = 0.02\n",
    "value_x = 0.68\n",
    "\n",
    "for item in kpis:\n",
    "    label = str(item.get(\"Indicateur\", \"—\"))\n",
    "    value = str(item.get(\"Valeur\", \"—\"))\n",
    "    ax.text(label_x, y, label, fontsize=12, fontweight=\"bold\", color=\"#333\")\n",
    "    ax.text(value_x, y, value, fontsize=12, color=\"#007acc\")\n",
    "    y -= line_height\n",
    "\n",
    "# Enregistrement optionnel\n",
    "out_png = FIGS_DIR / \"kpi_overview.png\"\n",
    "plt.savefig(out_png, dpi=160, bbox_inches=\"tight\")\n",
    "plt.show()\n",
    "\n",
    "print(\"Figure KPI enregistrée :\", out_png)\n"
   ]
  },
  {
   "cell_type": "code",
   "execution_count": 27,
   "id": "b0196502-ba1b-46cc-aca9-798dd02c171d",
   "metadata": {},
   "outputs": [
    {
     "data": {
      "image/png": "[encoded data removed]",
      "text/plain": [
       "<Figure size 1200x800 with 4 Axes>"
      ]
     },
     "metadata": {},
     "output_type": "display_data"
    }
   ],
   "source": [
    "#6\n",
    "#Visualisation des Tendances\n",
    "# Objectif :\n",
    "#   - Illustrer visuellement les grandes tendances historiques des indicateurs clés du développement au Bénin.\n",
    "#   - Fournir une première base de visualisations exploitables dans un futur tableau de bord Power BI.\n",
    "# Détails :\n",
    "#   1. Création d’une figure avec 4 sous-graphiques organisés en grille (2x2).\n",
    "#   2. Fonction utilitaire `tracer_si_possible()` :\n",
    "#        • Vérifie la présence des colonnes 'year' et de la variable choisie.\n",
    "#        • Trie et nettoie les données avant le tracé.\n",
    "#        • Permet de redimensionner l’échelle (ex. PIB en milliards pour lisibilité).\n",
    "#   3. Graphiques produits :\n",
    "#        • Population totale (croissance démographique)\n",
    "#        • PIB (en USD courants)\n",
    "#        • Espérance de vie à la naissance\n",
    "#        • Mortalité maternelle (pour 100 000 naissances vivantes)\n",
    "# Sorties :\n",
    "#   - 4 graphiques linéaires affichant les tendances temporelles principales.\n",
    "#   - Analyse visuelle directe des progrès et défis du pays entre 1960 et 2024.\n",
    "\n",
    "\n",
    "# Création de 4 graphiques principaux pour les variables clés\n",
    "fig, axes = plt.subplots(2, 2, figsize=(12,8))\n",
    "\n",
    "def tracer_si_possible(ax, col, titre, etiquette_y, echelle=None):\n",
    "    if {\"year\", col}.issubset(df.columns):\n",
    "        s = df[[\"year\", col]].dropna().drop_duplicates(\"year\").sort_values(\"year\")\n",
    "        if not s.empty:\n",
    "            y = s[col] / echelle if (echelle and echelle>0) else s[col]\n",
    "            ax.plot(s[\"year\"], y)\n",
    "            ax.set_title(titre)\n",
    "            ax.set_xlabel(\"Année\")\n",
    "            ax.set_ylabel(etiquette_y)\n",
    "\n",
    "tracer_si_possible(axes[0,0], \"population_total\", \"Population totale\", \"Personnes\")\n",
    "tracer_si_possible(axes[0,1], \"gdp_current_usd\", \"PIB (USD courants)\", \"USD (en milliards)\", echelle=1e9)\n",
    "tracer_si_possible(axes[1,0], \"life_expectancy_years\", \"Espérance de vie\", \"Années\")\n",
    "tracer_si_possible(axes[1,1], \"maternal_mortality_ratio\", \"Mortalité maternelle\", \"Pour 100 000 naissances vivantes\")\n",
    "\n",
    "plt.tight_layout()\n",
    "plt.show()\n"
   ]
  },
  {
   "cell_type": "code",
   "execution_count": 28,
   "id": "41e29026-8ed1-447a-8fab-3eec474c78d2",
   "metadata": {},
   "outputs": [
    {
     "data": {
      "image/png": "[encoded data removed]",
      "text/plain": [
       "<Figure size 600x500 with 1 Axes>"
      ]
     },
     "metadata": {},
     "output_type": "display_data"
    }
   ],
   "source": [
    "#7\n",
    "#Corrélation entre économie et santé\n",
    "# Objectif :\n",
    "#   - Explorer la relation entre le niveau économique (PIB par habitant)\n",
    "#     et le bien-être sanitaire (espérance de vie à la naissance).\n",
    "# Détails :\n",
    "#   1. Sélection des colonnes pertinentes :\n",
    "#        • `gdp_per_capita_usd` : indicateur économique.\n",
    "#        • `life_expectancy_years` : indicateur de santé publique.\n",
    "#   2. Nettoyage des données : suppression des lignes contenant des valeurs manquantes.\n",
    "#   3. Création d’un nuage de points illustrant la corrélation entre les deux variables.\n",
    "#   4. Ajout d’une ligne de tendance linéaire pour visualiser la direction générale de la relation.\n",
    "# Interprétation attendue :\n",
    "#   - Une corrélation positive (pente ascendante) traduit que l’amélioration du niveau de vie\n",
    "#     s’accompagne d’une hausse de l’espérance de vie.\n",
    "# Sortie :\n",
    "#   - Graphique de dispersion (scatter plot) montrant la relation entre économie et santé.\n",
    "#   - Sert de support à la narration \"prospérité ↔ longévité\" du tableau de bord Power BI.\n",
    "\n",
    "\n",
    "# Étude de la relation entre le PIB par habitant et l'espérance de vie\n",
    "xcol, ycol = \"gdp_per_capita_usd\", \"life_expectancy_years\"\n",
    "if {xcol, ycol}.issubset(df.columns):\n",
    "    valid = df[[xcol, ycol, \"year\"]].dropna()\n",
    "    if not valid.empty:\n",
    "        plt.figure(figsize=(6,5))\n",
    "        plt.scatter(valid[xcol], valid[ycol], alpha=0.7)\n",
    "        plt.title(\"Corrélation : PIB par habitant vs Espérance de vie\")\n",
    "        plt.xlabel(\"PIB par habitant (USD)\")\n",
    "        plt.ylabel(\"Espérance de vie (années)\")\n",
    "        # Ligne de tendance linéaire\n",
    "        z = np.polyfit(valid[xcol], valid[ycol], 1)\n",
    "        p = np.poly1d(z)\n",
    "        xs = np.linspace(valid[xcol].min(), valid[xcol].max(), 200)\n",
    "        plt.plot(xs, p(xs), linestyle=\"--\")\n",
    "        plt.tight_layout()\n",
    "        plt.show()\n"
   ]
  },
  {
   "cell_type": "code",
   "execution_count": 29,
   "id": "87191dcf-c553-442e-a661-8ff8500d9184",
   "metadata": {},
   "outputs": [
    {
     "data": {
      "application/vnd.plotly.v1+json": {
       "config": {
        "plotlyServerURL": "https://plot.ly"
       },
       "data": [
        {
         "hovertemplate": "Indicateur=population_total<br>Année=%{x}<br>Valeur=%{y}<extra></extra>",
         "legendgroup": "population_total",
         "line": {
          "color": "#636efa",
          "dash": "solid"
         },
         "marker": {
          "symbol": "circle"
         },
         "mode": "lines",
         "name": "population_total",
         "orientation": "v",
         "showlegend": true,
         "type": "scatter",
         "x": [
          1960,
          1961,
          1962,
          1963,
          1964,
          1965,
          1966,
          1967,
          1968,
          1969,
          1970,
          1971,
          1972,
          1973,
          1974,
          1975,
          1976,
          1977,
          1978,
          1979,
          1980,
          1981,
          1982,
          1983,
          1984,
          1985,
          1986,
          1987,
          1988,
          1989,
          1990,
          1991,
          1992,
          1993,
          1994,
          1995,
          1996,
          1997,
          1998,
          1999,
          2000,
          2001,
          2002,
          2003,
          2004,
          2005,
          2006,
          2007,
          2008,
          2009,
          2010,
          2011,
          2012,
          2013,
          2014,
          2015,
          2016,
          2017,
          2018,
          2019,
          2020,
          2021,
          2022,
          2023,
          2024
         ],
         "xaxis": "x",
         "y": [
          2517286,
          2559223,
          2604659,
          2652908,
          2704003,
          2757936,
          2814317,
          2872997,
          2934257,
          2998222,
          3065057,
          3134767,
          3207543,
          3283496,
          3362633,
          3445407,
          3532196,
          3623202,
          3718305,
          3818528,
          3925251,
          4038307,
          4156596,
          4278978,
          4405895,
          4538012,
          4675420,
          4818486,
          4967341,
          5121657,
          5281479,
          5446932,
          5617844,
          5872706,
          6096506,
          6226773,
          6391858,
          6583365,
          6789489,
          7002818,
          7221619,
          7445596,
          7675426,
          7913070,
          8159094,
          8426144,
          8693242,
          8953969,
          9228466,
          9509423,
          9797484,
          10093623,
          10397657,
          10708834,
          11030004,
          11360681,
          11697842,
          12039780,
          12383347,
          12726755,
          13070169,
          13413417,
          13759501,
          14111034,
          14462724
         ],
         "yaxis": "y"
        },
        {
         "hovertemplate": "Indicateur=gdp_current_usd<br>Année=%{x}<br>Valeur=%{y}<extra></extra>",
         "legendgroup": "gdp_current_usd",
         "line": {
          "color": "#EF553B",
          "dash": "solid"
         },
         "marker": {
          "symbol": "circle"
         },
         "mode": "lines",
         "name": "gdp_current_usd",
         "orientation": "v",
         "showlegend": true,
         "type": "scatter",
         "x": [
          1960,
          1961,
          1962,
          1963,
          1964,
          1965,
          1966,
          1967,
          1968,
          1969,
          1970,
          1971,
          1972,
          1973,
          1974,
          1975,
          1976,
          1977,
          1978,
          1979,
          1980,
          1981,
          1982,
          1983,
          1984,
          1985,
          1986,
          1987,
          1988,
          1989,
          1990,
          1991,
          1992,
          1993,
          1994,
          1995,
          1996,
          1997,
          1998,
          1999,
          2000,
          2001,
          2002,
          2003,
          2004,
          2005,
          2006,
          2007,
          2008,
          2009,
          2010,
          2011,
          2012,
          2013,
          2014,
          2015,
          2016,
          2017,
          2018,
          2019,
          2020,
          2021,
          2022,
          2023,
          2024
         ],
         "xaxis": "x",
         "y": [
          226195578.434497,
          235668220.508202,
          236434954.038578,
          253927697.25805,
          269819005.87814,
          289908680.426395,
          302925235.151997,
          306221953.104911,
          326323105.26476,
          330748244.539574,
          333627713.494438,
          335073027.54117,
          410331856.991218,
          504376074.185709,
          554654860.702577,
          676870140.341529,
          698408261.922237,
          750049778.84069,
          928843469.431727,
          1186231019.82044,
          1405251846.54048,
          1291120188.43104,
          1267778670.35902,
          1095348199.43911,
          1051134008.78979,
          1045712789.14884,
          1336102025.27763,
          1562412227.90058,
          1620246083.79478,
          1502294416.17129,
          1959965330.14765,
          1986437796.53053,
          1695315305.70308,
          2274558082.76135,
          1598075943.86774,
          2169627137.9207,
          2361116449.39308,
          2268301646.46707,
          2455092686.34712,
          3677393998.74486,
          3519991440.47913,
          3666222635.13875,
          4194342686.2178,
          5349258094.48239,
          6190270380.49856,
          6567654954.38903,
          7034111314.88812,
          8169048382.83875,
          9787734526.23965,
          9738626517.00319,
          9535345015.78355,
          10693321363.6574,
          11141358115.8991,
          12517845123.9315,
          13284527846.9081,
          11388160996.7738,
          11821065853.3838,
          12701655836.9467,
          14262408089.9261,
          14391686313.4641,
          15686741893.5187,
          17687623534.6665,
          17425405083.8797,
          19673290995.8491,
          21482643720.2743
         ],
         "yaxis": "y"
        },
        {
         "hovertemplate": "Indicateur=life_expectancy_years<br>Année=%{x}<br>Valeur=%{y}<extra></extra>",
         "legendgroup": "life_expectancy_years",
         "line": {
          "color": "#00cc96",
          "dash": "solid"
         },
         "marker": {
          "symbol": "circle"
         },
         "mode": "lines",
         "name": "life_expectancy_years",
         "orientation": "v",
         "showlegend": true,
         "type": "scatter",
         "x": [
          1960,
          1961,
          1962,
          1963,
          1964,
          1965,
          1966,
          1967,
          1968,
          1969,
          1970,
          1971,
          1972,
          1973,
          1974,
          1975,
          1976,
          1977,
          1978,
          1979,
          1980,
          1981,
          1982,
          1983,
          1984,
          1985,
          1986,
          1987,
          1988,
          1989,
          1990,
          1991,
          1992,
          1993,
          1994,
          1995,
          1996,
          1997,
          1998,
          1999,
          2000,
          2001,
          2002,
          2003,
          2004,
          2005,
          2006,
          2007,
          2008,
          2009,
          2010,
          2011,
          2012,
          2013,
          2014,
          2015,
          2016,
          2017,
          2018,
          2019,
          2020,
          2021,
          2022,
          2023,
          2024
         ],
         "xaxis": "x",
         "y": [
          38.775,
          39.233,
          39.643,
          40.081,
          40.502,
          40.971,
          41.274,
          41.759,
          42.182,
          42.591,
          43.029,
          43.391,
          43.928,
          44.435,
          44.876,
          45.405,
          45.952,
          46.504,
          46.941,
          47.362,
          47.747,
          48.122,
          48.493,
          48.845,
          49.399,
          49.959,
          50.632,
          51.258,
          52.019,
          52.45,
          53.02,
          53.441,
          54.137,
          54.612,
          54.988,
          55.366,
          55.648,
          55.986,
          56.154,
          56.336,
          56.594,
          56.654,
          56.851,
          57.092,
          57.346,
          57.738,
          57.966,
          58.249,
          58.099,
          58.258,
          58.387,
          58.462,
          58.559,
          58.863,
          59.008,
          59.123,
          59.283,
          59.528,
          59.71,
          59.888,
          60.154,
          59.61,
          60.475,
          60.774,
          null
         ],
         "yaxis": "y"
        }
       ],
       "layout": {
        "legend": {
         "title": {
          "text": "Indicateur"
         },
         "tracegroupgap": 0
        },
        "template": {
         "data": {
          "bar": [
           {
            "error_x": {
             "color": "#2a3f5f"
            },
            "error_y": {
             "color": "#2a3f5f"
            },
            "marker": {
             "line": {
              "color": "white",
              "width": 0.5
             },
             "pattern": {
              "fillmode": "overlay",
              "size": 10,
              "solidity": 0.2
             }
            },
            "type": "bar"
           }
          ],
          "barpolar": [
           {
            "marker": {
             "line": {
              "color": "white",
              "width": 0.5
             },
             "pattern": {
              "fillmode": "overlay",
              "size": 10,
              "solidity": 0.2
             }
            },
            "type": "barpolar"
           }
          ],
          "carpet": [
           {
            "aaxis": {
             "endlinecolor": "#2a3f5f",
             "gridcolor": "#C8D4E3",
             "linecolor": "#C8D4E3",
             "minorgridcolor": "#C8D4E3",
             "startlinecolor": "#2a3f5f"
            },
            "baxis": {
             "endlinecolor": "#2a3f5f",
             "gridcolor": "#C8D4E3",
             "linecolor": "#C8D4E3",
             "minorgridcolor": "#C8D4E3",
             "startlinecolor": "#2a3f5f"
            },
            "type": "carpet"
           }
          ],
          "choropleth": [
           {
            "colorbar": {
             "outlinewidth": 0,
             "ticks": ""
            },
            "type": "choropleth"
           }
          ],
          "contour": [
           {
            "colorbar": {
             "outlinewidth": 0,
             "ticks": ""
            },
            "colorscale": [
             [
              0,
              "#0d0887"
             ],
             [
              0.1111111111111111,
              "#46039f"
             ],
             [
              0.2222222222222222,
              "#7201a8"
             ],
             [
              0.3333333333333333,
              "#9c179e"
             ],
             [
              0.4444444444444444,
              "#bd3786"
             ],
             [
              0.5555555555555556,
              "#d8576b"
             ],
             [
              0.6666666666666666,
              "#ed7953"
             ],
             [
              0.7777777777777778,
              "#fb9f3a"
             ],
             [
              0.8888888888888888,
              "#fdca26"
             ],
             [
              1,
              "#f0f921"
             ]
            ],
            "type": "contour"
           }
          ],
          "contourcarpet": [
           {
            "colorbar": {
             "outlinewidth": 0,
             "ticks": ""
            },
            "type": "contourcarpet"
           }
          ],
          "heatmap": [
           {
            "colorbar": {
             "outlinewidth": 0,
             "ticks": ""
            },
            "colorscale": [
             [
              0,
              "#0d0887"
             ],
             [
              0.1111111111111111,
              "#46039f"
             ],
             [
              0.2222222222222222,
              "#7201a8"
             ],
             [
              0.3333333333333333,
              "#9c179e"
             ],
             [
              0.4444444444444444,
              "#bd3786"
             ],
             [
              0.5555555555555556,
              "#d8576b"
             ],
             [
              0.6666666666666666,
              "#ed7953"
             ],
             [
              0.7777777777777778,
              "#fb9f3a"
             ],
             [
              0.8888888888888888,
              "#fdca26"
             ],
             [
              1,
              "#f0f921"
             ]
            ],
            "type": "heatmap"
           }
          ],
          "heatmapgl": [
           {
            "colorbar": {
             "outlinewidth": 0,
             "ticks": ""
            },
            "colorscale": [
             [
              0,
              "#0d0887"
             ],
             [
              0.1111111111111111,
              "#46039f"
             ],
             [
              0.2222222222222222,
              "#7201a8"
             ],
             [
              0.3333333333333333,
              "#9c179e"
             ],
             [
              0.4444444444444444,
              "#bd3786"
             ],
             [
              0.5555555555555556,
              "#d8576b"
             ],
             [
              0.6666666666666666,
              "#ed7953"
             ],
             [
              0.7777777777777778,
              "#fb9f3a"
             ],
             [
              0.8888888888888888,
              "#fdca26"
             ],
             [
              1,
              "#f0f921"
             ]
            ],
            "type": "heatmapgl"
           }
          ],
          "histogram": [
           {
            "marker": {
             "pattern": {
              "fillmode": "overlay",
              "size": 10,
              "solidity": 0.2
             }
            },
            "type": "histogram"
           }
          ],
          "histogram2d": [
           {
            "colorbar": {
             "outlinewidth": 0,
             "ticks": ""
            },
            "colorscale": [
             [
              0,
              "#0d0887"
             ],
             [
              0.1111111111111111,
              "#46039f"
             ],
             [
              0.2222222222222222,
              "#7201a8"
             ],
             [
              0.3333333333333333,
              "#9c179e"
             ],
             [
              0.4444444444444444,
              "#bd3786"
             ],
             [
              0.5555555555555556,
              "#d8576b"
             ],
             [
              0.6666666666666666,
              "#ed7953"
             ],
             [
              0.7777777777777778,
              "#fb9f3a"
             ],
             [
              0.8888888888888888,
              "#fdca26"
             ],
             [
              1,
              "#f0f921"
             ]
            ],
            "type": "histogram2d"
           }
          ],
          "histogram2dcontour": [
           {
            "colorbar": {
             "outlinewidth": 0,
             "ticks": ""
            },
            "colorscale": [
             [
              0,
              "#0d0887"
             ],
             [
              0.1111111111111111,
              "#46039f"
             ],
             [
              0.2222222222222222,
              "#7201a8"
             ],
             [
              0.3333333333333333,
              "#9c179e"
             ],
             [
              0.4444444444444444,
              "#bd3786"
             ],
             [
              0.5555555555555556,
              "#d8576b"
             ],
             [
              0.6666666666666666,
              "#ed7953"
             ],
             [
              0.7777777777777778,
              "#fb9f3a"
             ],
             [
              0.8888888888888888,
              "#fdca26"
             ],
             [
              1,
              "#f0f921"
             ]
            ],
            "type": "histogram2dcontour"
           }
          ],
          "mesh3d": [
           {
            "colorbar": {
             "outlinewidth": 0,
             "ticks": ""
            },
            "type": "mesh3d"
           }
          ],
          "parcoords": [
           {
            "line": {
             "colorbar": {
              "outlinewidth": 0,
              "ticks": ""
             }
            },
            "type": "parcoords"
           }
          ],
          "pie": [
           {
            "automargin": true,
            "type": "pie"
           }
          ],
          "scatter": [
           {
            "fillpattern": {
             "fillmode": "overlay",
             "size": 10,
             "solidity": 0.2
            },
            "type": "scatter"
           }
          ],
          "scatter3d": [
           {
            "line": {
             "colorbar": {
              "outlinewidth": 0,
              "ticks": ""
             }
            },
            "marker": {
             "colorbar": {
              "outlinewidth": 0,
              "ticks": ""
             }
            },
            "type": "scatter3d"
           }
          ],
          "scattercarpet": [
           {
            "marker": {
             "colorbar": {
              "outlinewidth": 0,
              "ticks": ""
             }
            },
            "type": "scattercarpet"
           }
          ],
          "scattergeo": [
           {
            "marker": {
             "colorbar": {
              "outlinewidth": 0,
              "ticks": ""
             }
            },
            "type": "scattergeo"
           }
          ],
          "scattergl": [
           {
            "marker": {
             "colorbar": {
              "outlinewidth": 0,
              "ticks": ""
             }
            },
            "type": "scattergl"
           }
          ],
          "scattermapbox": [
           {
            "marker": {
             "colorbar": {
              "outlinewidth": 0,
              "ticks": ""
             }
            },
            "type": "scattermapbox"
           }
          ],
          "scatterpolar": [
           {
            "marker": {
             "colorbar": {
              "outlinewidth": 0,
              "ticks": ""
             }
            },
            "type": "scatterpolar"
           }
          ],
          "scatterpolargl": [
           {
            "marker": {
             "colorbar": {
              "outlinewidth": 0,
              "ticks": ""
             }
            },
            "type": "scatterpolargl"
           }
          ],
          "scatterternary": [
           {
            "marker": {
             "colorbar": {
              "outlinewidth": 0,
              "ticks": ""
             }
            },
            "type": "scatterternary"
           }
          ],
          "surface": [
           {
            "colorbar": {
             "outlinewidth": 0,
             "ticks": ""
            },
            "colorscale": [
             [
              0,
              "#0d0887"
             ],
             [
              0.1111111111111111,
              "#46039f"
             ],
             [
              0.2222222222222222,
              "#7201a8"
             ],
             [
              0.3333333333333333,
              "#9c179e"
             ],
             [
              0.4444444444444444,
              "#bd3786"
             ],
             [
              0.5555555555555556,
              "#d8576b"
             ],
             [
              0.6666666666666666,
              "#ed7953"
             ],
             [
              0.7777777777777778,
              "#fb9f3a"
             ],
             [
              0.8888888888888888,
              "#fdca26"
             ],
             [
              1,
              "#f0f921"
             ]
            ],
            "type": "surface"
           }
          ],
          "table": [
           {
            "cells": {
             "fill": {
              "color": "#EBF0F8"
             },
             "line": {
              "color": "white"
             }
            },
            "header": {
             "fill": {
              "color": "#C8D4E3"
             },
             "line": {
              "color": "white"
             }
            },
            "type": "table"
           }
          ]
         },
         "layout": {
          "annotationdefaults": {
           "arrowcolor": "#2a3f5f",
           "arrowhead": 0,
           "arrowwidth": 1
          },
          "autotypenumbers": "strict",
          "coloraxis": {
           "colorbar": {
            "outlinewidth": 0,
            "ticks": ""
           }
          },
          "colorscale": {
           "diverging": [
            [
             0,
             "#8e0152"
            ],
            [
             0.1,
             "#c51b7d"
            ],
            [
             0.2,
             "#de77ae"
            ],
            [
             0.3,
             "#f1b6da"
            ],
            [
             0.4,
             "#fde0ef"
            ],
            [
             0.5,
             "#f7f7f7"
            ],
            [
             0.6,
             "#e6f5d0"
            ],
            [
             0.7,
             "#b8e186"
            ],
            [
             0.8,
             "#7fbc41"
            ],
            [
             0.9,
             "#4d9221"
            ],
            [
             1,
             "#276419"
            ]
           ],
           "sequential": [
            [
             0,
             "#0d0887"
            ],
            [
             0.1111111111111111,
             "#46039f"
            ],
            [
             0.2222222222222222,
             "#7201a8"
            ],
            [
             0.3333333333333333,
             "#9c179e"
            ],
            [
             0.4444444444444444,
             "#bd3786"
            ],
            [
             0.5555555555555556,
             "#d8576b"
            ],
            [
             0.6666666666666666,
             "#ed7953"
            ],
            [
             0.7777777777777778,
             "#fb9f3a"
            ],
            [
             0.8888888888888888,
             "#fdca26"
            ],
            [
             1,
             "#f0f921"
            ]
           ],
           "sequentialminus": [
            [
             0,
             "#0d0887"
            ],
            [
             0.1111111111111111,
             "#46039f"
            ],
            [
             0.2222222222222222,
             "#7201a8"
            ],
            [
             0.3333333333333333,
             "#9c179e"
            ],
            [
             0.4444444444444444,
             "#bd3786"
            ],
            [
             0.5555555555555556,
             "#d8576b"
            ],
            [
             0.6666666666666666,
             "#ed7953"
            ],
            [
             0.7777777777777778,
             "#fb9f3a"
            ],
            [
             0.8888888888888888,
             "#fdca26"
            ],
            [
             1,
             "#f0f921"
            ]
           ]
          },
          "colorway": [
           "#636efa",
           "#EF553B",
           "#00cc96",
           "#ab63fa",
           "#FFA15A",
           "#19d3f3",
           "#FF6692",
           "#B6E880",
           "#FF97FF",
           "#FECB52"
          ],
          "font": {
           "color": "#2a3f5f"
          },
          "geo": {
           "bgcolor": "white",
           "lakecolor": "white",
           "landcolor": "white",
           "showlakes": true,
           "showland": true,
           "subunitcolor": "#C8D4E3"
          },
          "hoverlabel": {
           "align": "left"
          },
          "hovermode": "closest",
          "mapbox": {
           "style": "light"
          },
          "paper_bgcolor": "white",
          "plot_bgcolor": "white",
          "polar": {
           "angularaxis": {
            "gridcolor": "#EBF0F8",
            "linecolor": "#EBF0F8",
            "ticks": ""
           },
           "bgcolor": "white",
           "radialaxis": {
            "gridcolor": "#EBF0F8",
            "linecolor": "#EBF0F8",
            "ticks": ""
           }
          },
          "scene": {
           "xaxis": {
            "backgroundcolor": "white",
            "gridcolor": "#DFE8F3",
            "gridwidth": 2,
            "linecolor": "#EBF0F8",
            "showbackground": true,
            "ticks": "",
            "zerolinecolor": "#EBF0F8"
           },
           "yaxis": {
            "backgroundcolor": "white",
            "gridcolor": "#DFE8F3",
            "gridwidth": 2,
            "linecolor": "#EBF0F8",
            "showbackground": true,
            "ticks": "",
            "zerolinecolor": "#EBF0F8"
           },
           "zaxis": {
            "backgroundcolor": "white",
            "gridcolor": "#DFE8F3",
            "gridwidth": 2,
            "linecolor": "#EBF0F8",
            "showbackground": true,
            "ticks": "",
            "zerolinecolor": "#EBF0F8"
           }
          },
          "shapedefaults": {
           "line": {
            "color": "#2a3f5f"
           }
          },
          "ternary": {
           "aaxis": {
            "gridcolor": "#DFE8F3",
            "linecolor": "#A2B1C6",
            "ticks": ""
           },
           "baxis": {
            "gridcolor": "#DFE8F3",
            "linecolor": "#A2B1C6",
            "ticks": ""
           },
           "bgcolor": "white",
           "caxis": {
            "gridcolor": "#DFE8F3",
            "linecolor": "#A2B1C6",
            "ticks": ""
           }
          },
          "title": {
           "x": 0.05
          },
          "xaxis": {
           "automargin": true,
           "gridcolor": "#EBF0F8",
           "linecolor": "#EBF0F8",
           "ticks": "",
           "title": {
            "standoff": 15
           },
           "zerolinecolor": "#EBF0F8",
           "zerolinewidth": 2
          },
          "yaxis": {
           "automargin": true,
           "gridcolor": "#EBF0F8",
           "linecolor": "#EBF0F8",
           "ticks": "",
           "title": {
            "standoff": 15
           },
           "zerolinecolor": "#EBF0F8",
           "zerolinewidth": 2
          }
         }
        },
        "title": {
         "text": "Évolution comparée des indicateurs"
        },
        "xaxis": {
         "anchor": "y",
         "domain": [
          0,
          1
         ],
         "title": {
          "text": "Année"
         }
        },
        "yaxis": {
         "anchor": "x",
         "domain": [
          0,
          1
         ],
         "title": {
          "text": "Valeur"
         }
        }
       }
      },
      "image/png": "[encoded data removed]",
      "text/html": [
       "<div>                            <div id=\"4d1b38b9-ff5c-4141-8023-1ef9ae7bca42\" class=\"plotly-graph-div\" style=\"height:525px; width:100%;\"></div>            <script type=\"text/javascript\">                require([\"plotly\"], function(Plotly) {                    window.PLOTLYENV=window.PLOTLYENV || {};                                    if (document.getElementById(\"4d1b38b9-ff5c-4141-8023-1ef9ae7bca42\")) {                    Plotly.newPlot(                        \"4d1b38b9-ff5c-4141-8023-1ef9ae7bca42\",                        [{\"hovertemplate\":\"Indicateur=population_total\\u003cbr\\u003eAnnée=%{x}\\u003cbr\\u003eValeur=%{y}\\u003cextra\\u003e\\u003c\\u002fextra\\u003e\",\"legendgroup\":\"population_total\",\"line\":{\"color\":\"#636efa\",\"dash\":\"solid\"},\"marker\":{\"symbol\":\"circle\"},\"mode\":\"lines\",\"name\":\"population_total\",\"orientation\":\"v\",\"showlegend\":true,\"x\":[1960,1961,1962,1963,1964,1965,1966,1967,1968,1969,1970,1971,1972,1973,1974,1975,1976,1977,1978,1979,1980,1981,1982,1983,1984,1985,1986,1987,1988,1989,1990,1991,1992,1993,1994,1995,1996,1997,1998,1999,2000,2001,2002,2003,2004,2005,2006,2007,2008,2009,2010,2011,2012,2013,2014,2015,2016,2017,2018,2019,2020,2021,2022,2023,2024],\"xaxis\":\"x\",\"y\":[2517286.0,2559223.0,2604659.0,2652908.0,2704003.0,2757936.0,2814317.0,2872997.0,2934257.0,2998222.0,3065057.0,3134767.0,3207543.0,3283496.0,3362633.0,3445407.0,3532196.0,3623202.0,3718305.0,3818528.0,3925251.0,4038307.0,4156596.0,4278978.0,4405895.0,4538012.0,4675420.0,4818486.0,4967341.0,5121657.0,5281479.0,5446932.0,5617844.0,5872706.0,6096506.0,6226773.0,6391858.0,6583365.0,6789489.0,7002818.0,7221619.0,7445596.0,7675426.0,7913070.0,8159094.0,8426144.0,8693242.0,8953969.0,9228466.0,9509423.0,9797484.0,10093623.0,10397657.0,10708834.0,11030004.0,11360681.0,11697842.0,12039780.0,12383347.0,12726755.0,13070169.0,13413417.0,13759501.0,14111034.0,14462724.0],\"yaxis\":\"y\",\"type\":\"scatter\"},{\"hovertemplate\":\"Indicateur=gdp_current_usd\\u003cbr\\u003eAnnée=%{x}\\u003cbr\\u003eValeur=%{y}\\u003cextra\\u003e\\u003c\\u002fextra\\u003e\",\"legendgroup\":\"gdp_current_usd\",\"line\":{\"color\":\"#EF553B\",\"dash\":\"solid\"},\"marker\":{\"symbol\":\"circle\"},\"mode\":\"lines\",\"name\":\"gdp_current_usd\",\"orientation\":\"v\",\"showlegend\":true,\"x\":[1960,1961,1962,1963,1964,1965,1966,1967,1968,1969,1970,1971,1972,1973,1974,1975,1976,1977,1978,1979,1980,1981,1982,1983,1984,1985,1986,1987,1988,1989,1990,1991,1992,1993,1994,1995,1996,1997,1998,1999,2000,2001,2002,2003,2004,2005,2006,2007,2008,2009,2010,2011,2012,2013,2014,2015,2016,2017,2018,2019,2020,2021,2022,2023,2024],\"xaxis\":\"x\",\"y\":[226195578.434497,235668220.508202,236434954.038578,253927697.25805,269819005.87814,289908680.426395,302925235.151997,306221953.104911,326323105.26476,330748244.539574,333627713.494438,335073027.54117,410331856.991218,504376074.185709,554654860.702577,676870140.341529,698408261.922237,750049778.84069,928843469.431727,1186231019.82044,1405251846.54048,1291120188.43104,1267778670.35902,1095348199.43911,1051134008.78979,1045712789.14884,1336102025.27763,1562412227.90058,1620246083.79478,1502294416.17129,1959965330.14765,1986437796.53053,1695315305.70308,2274558082.76135,1598075943.86774,2169627137.9207,2361116449.39308,2268301646.46707,2455092686.34712,3677393998.74486,3519991440.47913,3666222635.13875,4194342686.2178,5349258094.48239,6190270380.49856,6567654954.38903,7034111314.88812,8169048382.83875,9787734526.23965,9738626517.00319,9535345015.78355,10693321363.6574,11141358115.8991,12517845123.9315,13284527846.9081,11388160996.7738,11821065853.3838,12701655836.9467,14262408089.9261,14391686313.4641,15686741893.5187,17687623534.6665,17425405083.8797,19673290995.8491,21482643720.2743],\"yaxis\":\"y\",\"type\":\"scatter\"},{\"hovertemplate\":\"Indicateur=life_expectancy_years\\u003cbr\\u003eAnnée=%{x}\\u003cbr\\u003eValeur=%{y}\\u003cextra\\u003e\\u003c\\u002fextra\\u003e\",\"legendgroup\":\"life_expectancy_years\",\"line\":{\"color\":\"#00cc96\",\"dash\":\"solid\"},\"marker\":{\"symbol\":\"circle\"},\"mode\":\"lines\",\"name\":\"life_expectancy_years\",\"orientation\":\"v\",\"showlegend\":true,\"x\":[1960,1961,1962,1963,1964,1965,1966,1967,1968,1969,1970,1971,1972,1973,1974,1975,1976,1977,1978,1979,1980,1981,1982,1983,1984,1985,1986,1987,1988,1989,1990,1991,1992,1993,1994,1995,1996,1997,1998,1999,2000,2001,2002,2003,2004,2005,2006,2007,2008,2009,2010,2011,2012,2013,2014,2015,2016,2017,2018,2019,2020,2021,2022,2023,2024],\"xaxis\":\"x\",\"y\":[38.775,39.233,39.643,40.081,40.502,40.971,41.274,41.759,42.182,42.591,43.029,43.391,43.928,44.435,44.876,45.405,45.952,46.504,46.941,47.362,47.747,48.122,48.493,48.845,49.399,49.959,50.632,51.258,52.019,52.45,53.02,53.441,54.137,54.612,54.988,55.366,55.648,55.986,56.154,56.336,56.594,56.654,56.851,57.092,57.346,57.738,57.966,58.249,58.099,58.258,58.387,58.462,58.559,58.863,59.008,59.123,59.283,59.528,59.71,59.888,60.154,59.61,60.475,60.774,null],\"yaxis\":\"y\",\"type\":\"scatter\"}],                        {\"template\":{\"data\":{\"barpolar\":[{\"marker\":{\"line\":{\"color\":\"white\",\"width\":0.5},\"pattern\":{\"fillmode\":\"overlay\",\"size\":10,\"solidity\":0.2}},\"type\":\"barpolar\"}],\"bar\":[{\"error_x\":{\"color\":\"#2a3f5f\"},\"error_y\":{\"color\":\"#2a3f5f\"},\"marker\":{\"line\":{\"color\":\"white\",\"width\":0.5},\"pattern\":{\"fillmode\":\"overlay\",\"size\":10,\"solidity\":0.2}},\"type\":\"bar\"}],\"carpet\":[{\"aaxis\":{\"endlinecolor\":\"#2a3f5f\",\"gridcolor\":\"#C8D4E3\",\"linecolor\":\"#C8D4E3\",\"minorgridcolor\":\"#C8D4E3\",\"startlinecolor\":\"#2a3f5f\"},\"baxis\":{\"endlinecolor\":\"#2a3f5f\",\"gridcolor\":\"#C8D4E3\",\"linecolor\":\"#C8D4E3\",\"minorgridcolor\":\"#C8D4E3\",\"startlinecolor\":\"#2a3f5f\"},\"type\":\"carpet\"}],\"choropleth\":[{\"colorbar\":{\"outlinewidth\":0,\"ticks\":\"\"},\"type\":\"choropleth\"}],\"contourcarpet\":[{\"colorbar\":{\"outlinewidth\":0,\"ticks\":\"\"},\"type\":\"contourcarpet\"}],\"contour\":[{\"colorbar\":{\"outlinewidth\":0,\"ticks\":\"\"},\"colorscale\":[[0.0,\"#0d0887\"],[0.1111111111111111,\"#46039f\"],[0.2222222222222222,\"#7201a8\"],[0.3333333333333333,\"#9c179e\"],[0.4444444444444444,\"#bd3786\"],[0.5555555555555556,\"#d8576b\"],[0.6666666666666666,\"#ed7953\"],[0.7777777777777778,\"#fb9f3a\"],[0.8888888888888888,\"#fdca26\"],[1.0,\"#f0f921\"]],\"type\":\"contour\"}],\"heatmapgl\":[{\"colorbar\":{\"outlinewidth\":0,\"ticks\":\"\"},\"colorscale\":[[0.0,\"#0d0887\"],[0.1111111111111111,\"#46039f\"],[0.2222222222222222,\"#7201a8\"],[0.3333333333333333,\"#9c179e\"],[0.4444444444444444,\"#bd3786\"],[0.5555555555555556,\"#d8576b\"],[0.6666666666666666,\"#ed7953\"],[0.7777777777777778,\"#fb9f3a\"],[0.8888888888888888,\"#fdca26\"],[1.0,\"#f0f921\"]],\"type\":\"heatmapgl\"}],\"heatmap\":[{\"colorbar\":{\"outlinewidth\":0,\"ticks\":\"\"},\"colorscale\":[[0.0,\"#0d0887\"],[0.1111111111111111,\"#46039f\"],[0.2222222222222222,\"#7201a8\"],[0.3333333333333333,\"#9c179e\"],[0.4444444444444444,\"#bd3786\"],[0.5555555555555556,\"#d8576b\"],[0.6666666666666666,\"#ed7953\"],[0.7777777777777778,\"#fb9f3a\"],[0.8888888888888888,\"#fdca26\"],[1.0,\"#f0f921\"]],\"type\":\"heatmap\"}],\"histogram2dcontour\":[{\"colorbar\":{\"outlinewidth\":0,\"ticks\":\"\"},\"colorscale\":[[0.0,\"#0d0887\"],[0.1111111111111111,\"#46039f\"],[0.2222222222222222,\"#7201a8\"],[0.3333333333333333,\"#9c179e\"],[0.4444444444444444,\"#bd3786\"],[0.5555555555555556,\"#d8576b\"],[0.6666666666666666,\"#ed7953\"],[0.7777777777777778,\"#fb9f3a\"],[0.8888888888888888,\"#fdca26\"],[1.0,\"#f0f921\"]],\"type\":\"histogram2dcontour\"}],\"histogram2d\":[{\"colorbar\":{\"outlinewidth\":0,\"ticks\":\"\"},\"colorscale\":[[0.0,\"#0d0887\"],[0.1111111111111111,\"#46039f\"],[0.2222222222222222,\"#7201a8\"],[0.3333333333333333,\"#9c179e\"],[0.4444444444444444,\"#bd3786\"],[0.5555555555555556,\"#d8576b\"],[0.6666666666666666,\"#ed7953\"],[0.7777777777777778,\"#fb9f3a\"],[0.8888888888888888,\"#fdca26\"],[1.0,\"#f0f921\"]],\"type\":\"histogram2d\"}],\"histogram\":[{\"marker\":{\"pattern\":{\"fillmode\":\"overlay\",\"size\":10,\"solidity\":0.2}},\"type\":\"histogram\"}],\"mesh3d\":[{\"colorbar\":{\"outlinewidth\":0,\"ticks\":\"\"},\"type\":\"mesh3d\"}],\"parcoords\":[{\"line\":{\"colorbar\":{\"outlinewidth\":0,\"ticks\":\"\"}},\"type\":\"parcoords\"}],\"pie\":[{\"automargin\":true,\"type\":\"pie\"}],\"scatter3d\":[{\"line\":{\"colorbar\":{\"outlinewidth\":0,\"ticks\":\"\"}},\"marker\":{\"colorbar\":{\"outlinewidth\":0,\"ticks\":\"\"}},\"type\":\"scatter3d\"}],\"scattercarpet\":[{\"marker\":{\"colorbar\":{\"outlinewidth\":0,\"ticks\":\"\"}},\"type\":\"scattercarpet\"}],\"scattergeo\":[{\"marker\":{\"colorbar\":{\"outlinewidth\":0,\"ticks\":\"\"}},\"type\":\"scattergeo\"}],\"scattergl\":[{\"marker\":{\"colorbar\":{\"outlinewidth\":0,\"ticks\":\"\"}},\"type\":\"scattergl\"}],\"scattermapbox\":[{\"marker\":{\"colorbar\":{\"outlinewidth\":0,\"ticks\":\"\"}},\"type\":\"scattermapbox\"}],\"scatterpolargl\":[{\"marker\":{\"colorbar\":{\"outlinewidth\":0,\"ticks\":\"\"}},\"type\":\"scatterpolargl\"}],\"scatterpolar\":[{\"marker\":{\"colorbar\":{\"outlinewidth\":0,\"ticks\":\"\"}},\"type\":\"scatterpolar\"}],\"scatter\":[{\"fillpattern\":{\"fillmode\":\"overlay\",\"size\":10,\"solidity\":0.2},\"type\":\"scatter\"}],\"scatterternary\":[{\"marker\":{\"colorbar\":{\"outlinewidth\":0,\"ticks\":\"\"}},\"type\":\"scatterternary\"}],\"surface\":[{\"colorbar\":{\"outlinewidth\":0,\"ticks\":\"\"},\"colorscale\":[[0.0,\"#0d0887\"],[0.1111111111111111,\"#46039f\"],[0.2222222222222222,\"#7201a8\"],[0.3333333333333333,\"#9c179e\"],[0.4444444444444444,\"#bd3786\"],[0.5555555555555556,\"#d8576b\"],[0.6666666666666666,\"#ed7953\"],[0.7777777777777778,\"#fb9f3a\"],[0.8888888888888888,\"#fdca26\"],[1.0,\"#f0f921\"]],\"type\":\"surface\"}],\"table\":[{\"cells\":{\"fill\":{\"color\":\"#EBF0F8\"},\"line\":{\"color\":\"white\"}},\"header\":{\"fill\":{\"color\":\"#C8D4E3\"},\"line\":{\"color\":\"white\"}},\"type\":\"table\"}]},\"layout\":{\"annotationdefaults\":{\"arrowcolor\":\"#2a3f5f\",\"arrowhead\":0,\"arrowwidth\":1},\"autotypenumbers\":\"strict\",\"coloraxis\":{\"colorbar\":{\"outlinewidth\":0,\"ticks\":\"\"}},\"colorscale\":{\"diverging\":[[0,\"#8e0152\"],[0.1,\"#c51b7d\"],[0.2,\"#de77ae\"],[0.3,\"#f1b6da\"],[0.4,\"#fde0ef\"],[0.5,\"#f7f7f7\"],[0.6,\"#e6f5d0\"],[0.7,\"#b8e186\"],[0.8,\"#7fbc41\"],[0.9,\"#4d9221\"],[1,\"#276419\"]],\"sequential\":[[0.0,\"#0d0887\"],[0.1111111111111111,\"#46039f\"],[0.2222222222222222,\"#7201a8\"],[0.3333333333333333,\"#9c179e\"],[0.4444444444444444,\"#bd3786\"],[0.5555555555555556,\"#d8576b\"],[0.6666666666666666,\"#ed7953\"],[0.7777777777777778,\"#fb9f3a\"],[0.8888888888888888,\"#fdca26\"],[1.0,\"#f0f921\"]],\"sequentialminus\":[[0.0,\"#0d0887\"],[0.1111111111111111,\"#46039f\"],[0.2222222222222222,\"#7201a8\"],[0.3333333333333333,\"#9c179e\"],[0.4444444444444444,\"#bd3786\"],[0.5555555555555556,\"#d8576b\"],[0.6666666666666666,\"#ed7953\"],[0.7777777777777778,\"#fb9f3a\"],[0.8888888888888888,\"#fdca26\"],[1.0,\"#f0f921\"]]},\"colorway\":[\"#636efa\",\"#EF553B\",\"#00cc96\",\"#ab63fa\",\"#FFA15A\",\"#19d3f3\",\"#FF6692\",\"#B6E880\",\"#FF97FF\",\"#FECB52\"],\"font\":{\"color\":\"#2a3f5f\"},\"geo\":{\"bgcolor\":\"white\",\"lakecolor\":\"white\",\"landcolor\":\"white\",\"showlakes\":true,\"showland\":true,\"subunitcolor\":\"#C8D4E3\"},\"hoverlabel\":{\"align\":\"left\"},\"hovermode\":\"closest\",\"mapbox\":{\"style\":\"light\"},\"paper_bgcolor\":\"white\",\"plot_bgcolor\":\"white\",\"polar\":{\"angularaxis\":{\"gridcolor\":\"#EBF0F8\",\"linecolor\":\"#EBF0F8\",\"ticks\":\"\"},\"bgcolor\":\"white\",\"radialaxis\":{\"gridcolor\":\"#EBF0F8\",\"linecolor\":\"#EBF0F8\",\"ticks\":\"\"}},\"scene\":{\"xaxis\":{\"backgroundcolor\":\"white\",\"gridcolor\":\"#DFE8F3\",\"gridwidth\":2,\"linecolor\":\"#EBF0F8\",\"showbackground\":true,\"ticks\":\"\",\"zerolinecolor\":\"#EBF0F8\"},\"yaxis\":{\"backgroundcolor\":\"white\",\"gridcolor\":\"#DFE8F3\",\"gridwidth\":2,\"linecolor\":\"#EBF0F8\",\"showbackground\":true,\"ticks\":\"\",\"zerolinecolor\":\"#EBF0F8\"},\"zaxis\":{\"backgroundcolor\":\"white\",\"gridcolor\":\"#DFE8F3\",\"gridwidth\":2,\"linecolor\":\"#EBF0F8\",\"showbackground\":true,\"ticks\":\"\",\"zerolinecolor\":\"#EBF0F8\"}},\"shapedefaults\":{\"line\":{\"color\":\"#2a3f5f\"}},\"ternary\":{\"aaxis\":{\"gridcolor\":\"#DFE8F3\",\"linecolor\":\"#A2B1C6\",\"ticks\":\"\"},\"baxis\":{\"gridcolor\":\"#DFE8F3\",\"linecolor\":\"#A2B1C6\",\"ticks\":\"\"},\"bgcolor\":\"white\",\"caxis\":{\"gridcolor\":\"#DFE8F3\",\"linecolor\":\"#A2B1C6\",\"ticks\":\"\"}},\"title\":{\"x\":0.05},\"xaxis\":{\"automargin\":true,\"gridcolor\":\"#EBF0F8\",\"linecolor\":\"#EBF0F8\",\"ticks\":\"\",\"title\":{\"standoff\":15},\"zerolinecolor\":\"#EBF0F8\",\"zerolinewidth\":2},\"yaxis\":{\"automargin\":true,\"gridcolor\":\"#EBF0F8\",\"linecolor\":\"#EBF0F8\",\"ticks\":\"\",\"title\":{\"standoff\":15},\"zerolinecolor\":\"#EBF0F8\",\"zerolinewidth\":2}}},\"xaxis\":{\"anchor\":\"y\",\"domain\":[0.0,1.0],\"title\":{\"text\":\"Année\"}},\"yaxis\":{\"anchor\":\"x\",\"domain\":[0.0,1.0],\"title\":{\"text\":\"Valeur\"}},\"legend\":{\"title\":{\"text\":\"Indicateur\"},\"tracegroupgap\":0},\"title\":{\"text\":\"Évolution comparée des indicateurs\"}},                        {\"responsive\": true}                    ).then(function(){\n",
       "                            \n",
       "var gd = document.getElementById('4d1b38b9-ff5c-4141-8023-1ef9ae7bca42');\n",
       "var x = new MutationObserver(function (mutations, observer) {{\n",
       "        var display = window.getComputedStyle(gd).display;\n",
       "        if (!display || display === 'none') {{\n",
       "            console.log([gd, 'removed!']);\n",
       "            Plotly.purge(gd);\n",
       "            observer.disconnect();\n",
       "        }}\n",
       "}});\n",
       "\n",
       "// Listen for the removal of the full notebook cells\n",
       "var notebookContainer = gd.closest('#notebook-container');\n",
       "if (notebookContainer) {{\n",
       "    x.observe(notebookContainer, {childList: true});\n",
       "}}\n",
       "\n",
       "// Listen for the clearing of the current output cell\n",
       "var outputEl = gd.closest('.output');\n",
       "if (outputEl) {{\n",
       "    x.observe(outputEl, {childList: true});\n",
       "}}\n",
       "\n",
       "                        })                };                });            </script>        </div>"
      ]
     },
     "metadata": {},
     "output_type": "display_data"
    },
    {
     "name": "stdout",
     "output_type": "stream",
     "text": [
      "Export (HTML) — Évolution comparée : /Users/davidakpovi/challenge_tache1_ANIP/data/processed/evolution_indicateurs.html\n"
     ]
    },
    {
     "data": {
      "application/vnd.plotly.v1+json": {
       "config": {
        "plotlyServerURL": "https://plot.ly"
       },
       "data": [
        {
         "alignmentgroup": "True",
         "hovertemplate": "Indicateur=%{x}<br>Valeur=%{text}<extra></extra>",
         "legendgroup": "",
         "marker": {
          "color": "#636efa",
          "pattern": {
           "shape": ""
          }
         },
         "name": "",
         "offsetgroup": "",
         "orientation": "v",
         "showlegend": false,
         "text": [
          2024,
          "14 462 724",
          "21 482 643 720",
          "1 485",
          "nan",
          "7.5",
          "nan",
          "0.67"
         ],
         "textposition": "outside",
         "type": "bar",
         "x": [
          "Année la plus récente",
          "Population totale",
          "PIB (USD courants)",
          "PIB par habitant (USD)",
          "Espérance de vie (ans)",
          "Croissance PIB réel (%)",
          "Mortalité maternelle",
          "Indice composite (0–1)"
         ],
         "xaxis": "x",
         "y": [
          2024,
          14462724,
          21482643720,
          1485,
          null,
          7.5,
          null,
          0.67
         ],
         "yaxis": "y"
        }
       ],
       "layout": {
        "barmode": "relative",
        "legend": {
         "tracegroupgap": 0
        },
        "showlegend": false,
        "template": {
         "data": {
          "bar": [
           {
            "error_x": {
             "color": "#2a3f5f"
            },
            "error_y": {
             "color": "#2a3f5f"
            },
            "marker": {
             "line": {
              "color": "white",
              "width": 0.5
             },
             "pattern": {
              "fillmode": "overlay",
              "size": 10,
              "solidity": 0.2
             }
            },
            "type": "bar"
           }
          ],
          "barpolar": [
           {
            "marker": {
             "line": {
              "color": "white",
              "width": 0.5
             },
             "pattern": {
              "fillmode": "overlay",
              "size": 10,
              "solidity": 0.2
             }
            },
            "type": "barpolar"
           }
          ],
          "carpet": [
           {
            "aaxis": {
             "endlinecolor": "#2a3f5f",
             "gridcolor": "#C8D4E3",
             "linecolor": "#C8D4E3",
             "minorgridcolor": "#C8D4E3",
             "startlinecolor": "#2a3f5f"
            },
            "baxis": {
             "endlinecolor": "#2a3f5f",
             "gridcolor": "#C8D4E3",
             "linecolor": "#C8D4E3",
             "minorgridcolor": "#C8D4E3",
             "startlinecolor": "#2a3f5f"
            },
            "type": "carpet"
           }
          ],
          "choropleth": [
           {
            "colorbar": {
             "outlinewidth": 0,
             "ticks": ""
            },
            "type": "choropleth"
           }
          ],
          "contour": [
           {
            "colorbar": {
             "outlinewidth": 0,
             "ticks": ""
            },
            "colorscale": [
             [
              0,
              "#0d0887"
             ],
             [
              0.1111111111111111,
              "#46039f"
             ],
             [
              0.2222222222222222,
              "#7201a8"
             ],
             [
              0.3333333333333333,
              "#9c179e"
             ],
             [
              0.4444444444444444,
              "#bd3786"
             ],
             [
              0.5555555555555556,
              "#d8576b"
             ],
             [
              0.6666666666666666,
              "#ed7953"
             ],
             [
              0.7777777777777778,
              "#fb9f3a"
             ],
             [
              0.8888888888888888,
              "#fdca26"
             ],
             [
              1,
              "#f0f921"
             ]
            ],
            "type": "contour"
           }
          ],
          "contourcarpet": [
           {
            "colorbar": {
             "outlinewidth": 0,
             "ticks": ""
            },
            "type": "contourcarpet"
           }
          ],
          "heatmap": [
           {
            "colorbar": {
             "outlinewidth": 0,
             "ticks": ""
            },
            "colorscale": [
             [
              0,
              "#0d0887"
             ],
             [
              0.1111111111111111,
              "#46039f"
             ],
             [
              0.2222222222222222,
              "#7201a8"
             ],
             [
              0.3333333333333333,
              "#9c179e"
             ],
             [
              0.4444444444444444,
              "#bd3786"
             ],
             [
              0.5555555555555556,
              "#d8576b"
             ],
             [
              0.6666666666666666,
              "#ed7953"
             ],
             [
              0.7777777777777778,
              "#fb9f3a"
             ],
             [
              0.8888888888888888,
              "#fdca26"
             ],
             [
              1,
              "#f0f921"
             ]
            ],
            "type": "heatmap"
           }
          ],
          "heatmapgl": [
           {
            "colorbar": {
             "outlinewidth": 0,
             "ticks": ""
            },
            "colorscale": [
             [
              0,
              "#0d0887"
             ],
             [
              0.1111111111111111,
              "#46039f"
             ],
             [
              0.2222222222222222,
              "#7201a8"
             ],
             [
              0.3333333333333333,
              "#9c179e"
             ],
             [
              0.4444444444444444,
              "#bd3786"
             ],
             [
              0.5555555555555556,
              "#d8576b"
             ],
             [
              0.6666666666666666,
              "#ed7953"
             ],
             [
              0.7777777777777778,
              "#fb9f3a"
             ],
             [
              0.8888888888888888,
              "#fdca26"
             ],
             [
              1,
              "#f0f921"
             ]
            ],
            "type": "heatmapgl"
           }
          ],
          "histogram": [
           {
            "marker": {
             "pattern": {
              "fillmode": "overlay",
              "size": 10,
              "solidity": 0.2
             }
            },
            "type": "histogram"
           }
          ],
          "histogram2d": [
           {
            "colorbar": {
             "outlinewidth": 0,
             "ticks": ""
            },
            "colorscale": [
             [
              0,
              "#0d0887"
             ],
             [
              0.1111111111111111,
              "#46039f"
             ],
             [
              0.2222222222222222,
              "#7201a8"
             ],
             [
              0.3333333333333333,
              "#9c179e"
             ],
             [
              0.4444444444444444,
              "#bd3786"
             ],
             [
              0.5555555555555556,
              "#d8576b"
             ],
             [
              0.6666666666666666,
              "#ed7953"
             ],
             [
              0.7777777777777778,
              "#fb9f3a"
             ],
             [
              0.8888888888888888,
              "#fdca26"
             ],
             [
              1,
              "#f0f921"
             ]
            ],
            "type": "histogram2d"
           }
          ],
          "histogram2dcontour": [
           {
            "colorbar": {
             "outlinewidth": 0,
             "ticks": ""
            },
            "colorscale": [
             [
              0,
              "#0d0887"
             ],
             [
              0.1111111111111111,
              "#46039f"
             ],
             [
              0.2222222222222222,
              "#7201a8"
             ],
             [
              0.3333333333333333,
              "#9c179e"
             ],
             [
              0.4444444444444444,
              "#bd3786"
             ],
             [
              0.5555555555555556,
              "#d8576b"
             ],
             [
              0.6666666666666666,
              "#ed7953"
             ],
             [
              0.7777777777777778,
              "#fb9f3a"
             ],
             [
              0.8888888888888888,
              "#fdca26"
             ],
             [
              1,
              "#f0f921"
             ]
            ],
            "type": "histogram2dcontour"
           }
          ],
          "mesh3d": [
           {
            "colorbar": {
             "outlinewidth": 0,
             "ticks": ""
            },
            "type": "mesh3d"
           }
          ],
          "parcoords": [
           {
            "line": {
             "colorbar": {
              "outlinewidth": 0,
              "ticks": ""
             }
            },
            "type": "parcoords"
           }
          ],
          "pie": [
           {
            "automargin": true,
            "type": "pie"
           }
          ],
          "scatter": [
           {
            "fillpattern": {
             "fillmode": "overlay",
             "size": 10,
             "solidity": 0.2
            },
            "type": "scatter"
           }
          ],
          "scatter3d": [
           {
            "line": {
             "colorbar": {
              "outlinewidth": 0,
              "ticks": ""
             }
            },
            "marker": {
             "colorbar": {
              "outlinewidth": 0,
              "ticks": ""
             }
            },
            "type": "scatter3d"
           }
          ],
          "scattercarpet": [
           {
            "marker": {
             "colorbar": {
              "outlinewidth": 0,
              "ticks": ""
             }
            },
            "type": "scattercarpet"
           }
          ],
          "scattergeo": [
           {
            "marker": {
             "colorbar": {
              "outlinewidth": 0,
              "ticks": ""
             }
            },
            "type": "scattergeo"
           }
          ],
          "scattergl": [
           {
            "marker": {
             "colorbar": {
              "outlinewidth": 0,
              "ticks": ""
             }
            },
            "type": "scattergl"
           }
          ],
          "scattermapbox": [
           {
            "marker": {
             "colorbar": {
              "outlinewidth": 0,
              "ticks": ""
             }
            },
            "type": "scattermapbox"
           }
          ],
          "scatterpolar": [
           {
            "marker": {
             "colorbar": {
              "outlinewidth": 0,
              "ticks": ""
             }
            },
            "type": "scatterpolar"
           }
          ],
          "scatterpolargl": [
           {
            "marker": {
             "colorbar": {
              "outlinewidth": 0,
              "ticks": ""
             }
            },
            "type": "scatterpolargl"
           }
          ],
          "scatterternary": [
           {
            "marker": {
             "colorbar": {
              "outlinewidth": 0,
              "ticks": ""
             }
            },
            "type": "scatterternary"
           }
          ],
          "surface": [
           {
            "colorbar": {
             "outlinewidth": 0,
             "ticks": ""
            },
            "colorscale": [
             [
              0,
              "#0d0887"
             ],
             [
              0.1111111111111111,
              "#46039f"
             ],
             [
              0.2222222222222222,
              "#7201a8"
             ],
             [
              0.3333333333333333,
              "#9c179e"
             ],
             [
              0.4444444444444444,
              "#bd3786"
             ],
             [
              0.5555555555555556,
              "#d8576b"
             ],
             [
              0.6666666666666666,
              "#ed7953"
             ],
             [
              0.7777777777777778,
              "#fb9f3a"
             ],
             [
              0.8888888888888888,
              "#fdca26"
             ],
             [
              1,
              "#f0f921"
             ]
            ],
            "type": "surface"
           }
          ],
          "table": [
           {
            "cells": {
             "fill": {
              "color": "#EBF0F8"
             },
             "line": {
              "color": "white"
             }
            },
            "header": {
             "fill": {
              "color": "#C8D4E3"
             },
             "line": {
              "color": "white"
             }
            },
            "type": "table"
           }
          ]
         },
         "layout": {
          "annotationdefaults": {
           "arrowcolor": "#2a3f5f",
           "arrowhead": 0,
           "arrowwidth": 1
          },
          "autotypenumbers": "strict",
          "coloraxis": {
           "colorbar": {
            "outlinewidth": 0,
            "ticks": ""
           }
          },
          "colorscale": {
           "diverging": [
            [
             0,
             "#8e0152"
            ],
            [
             0.1,
             "#c51b7d"
            ],
            [
             0.2,
             "#de77ae"
            ],
            [
             0.3,
             "#f1b6da"
            ],
            [
             0.4,
             "#fde0ef"
            ],
            [
             0.5,
             "#f7f7f7"
            ],
            [
             0.6,
             "#e6f5d0"
            ],
            [
             0.7,
             "#b8e186"
            ],
            [
             0.8,
             "#7fbc41"
            ],
            [
             0.9,
             "#4d9221"
            ],
            [
             1,
             "#276419"
            ]
           ],
           "sequential": [
            [
             0,
             "#0d0887"
            ],
            [
             0.1111111111111111,
             "#46039f"
            ],
            [
             0.2222222222222222,
             "#7201a8"
            ],
            [
             0.3333333333333333,
             "#9c179e"
            ],
            [
             0.4444444444444444,
             "#bd3786"
            ],
            [
             0.5555555555555556,
             "#d8576b"
            ],
            [
             0.6666666666666666,
             "#ed7953"
            ],
            [
             0.7777777777777778,
             "#fb9f3a"
            ],
            [
             0.8888888888888888,
             "#fdca26"
            ],
            [
             1,
             "#f0f921"
            ]
           ],
           "sequentialminus": [
            [
             0,
             "#0d0887"
            ],
            [
             0.1111111111111111,
             "#46039f"
            ],
            [
             0.2222222222222222,
             "#7201a8"
            ],
            [
             0.3333333333333333,
             "#9c179e"
            ],
            [
             0.4444444444444444,
             "#bd3786"
            ],
            [
             0.5555555555555556,
             "#d8576b"
            ],
            [
             0.6666666666666666,
             "#ed7953"
            ],
            [
             0.7777777777777778,
             "#fb9f3a"
            ],
            [
             0.8888888888888888,
             "#fdca26"
            ],
            [
             1,
             "#f0f921"
            ]
           ]
          },
          "colorway": [
           "#636efa",
           "#EF553B",
           "#00cc96",
           "#ab63fa",
           "#FFA15A",
           "#19d3f3",
           "#FF6692",
           "#B6E880",
           "#FF97FF",
           "#FECB52"
          ],
          "font": {
           "color": "#2a3f5f"
          },
          "geo": {
           "bgcolor": "white",
           "lakecolor": "white",
           "landcolor": "white",
           "showlakes": true,
           "showland": true,
           "subunitcolor": "#C8D4E3"
          },
          "hoverlabel": {
           "align": "left"
          },
          "hovermode": "closest",
          "mapbox": {
           "style": "light"
          },
          "paper_bgcolor": "white",
          "plot_bgcolor": "white",
          "polar": {
           "angularaxis": {
            "gridcolor": "#EBF0F8",
            "linecolor": "#EBF0F8",
            "ticks": ""
           },
           "bgcolor": "white",
           "radialaxis": {
            "gridcolor": "#EBF0F8",
            "linecolor": "#EBF0F8",
            "ticks": ""
           }
          },
          "scene": {
           "xaxis": {
            "backgroundcolor": "white",
            "gridcolor": "#DFE8F3",
            "gridwidth": 2,
            "linecolor": "#EBF0F8",
            "showbackground": true,
            "ticks": "",
            "zerolinecolor": "#EBF0F8"
           },
           "yaxis": {
            "backgroundcolor": "white",
            "gridcolor": "#DFE8F3",
            "gridwidth": 2,
            "linecolor": "#EBF0F8",
            "showbackground": true,
            "ticks": "",
            "zerolinecolor": "#EBF0F8"
           },
           "zaxis": {
            "backgroundcolor": "white",
            "gridcolor": "#DFE8F3",
            "gridwidth": 2,
            "linecolor": "#EBF0F8",
            "showbackground": true,
            "ticks": "",
            "zerolinecolor": "#EBF0F8"
           }
          },
          "shapedefaults": {
           "line": {
            "color": "#2a3f5f"
           }
          },
          "ternary": {
           "aaxis": {
            "gridcolor": "#DFE8F3",
            "linecolor": "#A2B1C6",
            "ticks": ""
           },
           "baxis": {
            "gridcolor": "#DFE8F3",
            "linecolor": "#A2B1C6",
            "ticks": ""
           },
           "bgcolor": "white",
           "caxis": {
            "gridcolor": "#DFE8F3",
            "linecolor": "#A2B1C6",
            "ticks": ""
           }
          },
          "title": {
           "x": 0.05
          },
          "xaxis": {
           "automargin": true,
           "gridcolor": "#EBF0F8",
           "linecolor": "#EBF0F8",
           "ticks": "",
           "title": {
            "standoff": 15
           },
           "zerolinecolor": "#EBF0F8",
           "zerolinewidth": 2
          },
          "yaxis": {
           "automargin": true,
           "gridcolor": "#EBF0F8",
           "linecolor": "#EBF0F8",
           "ticks": "",
           "title": {
            "standoff": 15
           },
           "zerolinecolor": "#EBF0F8",
           "zerolinewidth": 2
          }
         }
        },
        "title": {
         "text": "Indicateurs clés (barres interactives)"
        },
        "xaxis": {
         "anchor": "y",
         "domain": [
          0,
          1
         ],
         "tickangle": -10,
         "title": {
          "text": "Indicateur"
         }
        },
        "yaxis": {
         "anchor": "x",
         "domain": [
          0,
          1
         ],
         "title": {
          "text": "Valeur"
         }
        }
       }
      },
      "image/png": "[encoded data removed]",
      "text/html": [
       "<div>                            <div id=\"4b96c701-ad8b-4a86-b492-032f4680169e\" class=\"plotly-graph-div\" style=\"height:525px; width:100%;\"></div>            <script type=\"text/javascript\">                require([\"plotly\"], function(Plotly) {                    window.PLOTLYENV=window.PLOTLYENV || {};                                    if (document.getElementById(\"4b96c701-ad8b-4a86-b492-032f4680169e\")) {                    Plotly.newPlot(                        \"4b96c701-ad8b-4a86-b492-032f4680169e\",                        [{\"alignmentgroup\":\"True\",\"hovertemplate\":\"Indicateur=%{x}\\u003cbr\\u003eValeur=%{text}\\u003cextra\\u003e\\u003c\\u002fextra\\u003e\",\"legendgroup\":\"\",\"marker\":{\"color\":\"#636efa\",\"pattern\":{\"shape\":\"\"}},\"name\":\"\",\"offsetgroup\":\"\",\"orientation\":\"v\",\"showlegend\":false,\"text\":[2024,\"14 462 724\",\"21 482 643 720\",\"1 485\",\"nan\",\"7.5\",\"nan\",\"0.67\"],\"textposition\":\"outside\",\"x\":[\"Année la plus récente\",\"Population totale\",\"PIB (USD courants)\",\"PIB par habitant (USD)\",\"Espérance de vie (ans)\",\"Croissance PIB réel (%)\",\"Mortalité maternelle\",\"Indice composite (0–1)\"],\"xaxis\":\"x\",\"y\":[2024.0,14462724.0,21482643720.0,1485.0,null,7.5,null,0.67],\"yaxis\":\"y\",\"type\":\"bar\"}],                        {\"template\":{\"data\":{\"barpolar\":[{\"marker\":{\"line\":{\"color\":\"white\",\"width\":0.5},\"pattern\":{\"fillmode\":\"overlay\",\"size\":10,\"solidity\":0.2}},\"type\":\"barpolar\"}],\"bar\":[{\"error_x\":{\"color\":\"#2a3f5f\"},\"error_y\":{\"color\":\"#2a3f5f\"},\"marker\":{\"line\":{\"color\":\"white\",\"width\":0.5},\"pattern\":{\"fillmode\":\"overlay\",\"size\":10,\"solidity\":0.2}},\"type\":\"bar\"}],\"carpet\":[{\"aaxis\":{\"endlinecolor\":\"#2a3f5f\",\"gridcolor\":\"#C8D4E3\",\"linecolor\":\"#C8D4E3\",\"minorgridcolor\":\"#C8D4E3\",\"startlinecolor\":\"#2a3f5f\"},\"baxis\":{\"endlinecolor\":\"#2a3f5f\",\"gridcolor\":\"#C8D4E3\",\"linecolor\":\"#C8D4E3\",\"minorgridcolor\":\"#C8D4E3\",\"startlinecolor\":\"#2a3f5f\"},\"type\":\"carpet\"}],\"choropleth\":[{\"colorbar\":{\"outlinewidth\":0,\"ticks\":\"\"},\"type\":\"choropleth\"}],\"contourcarpet\":[{\"colorbar\":{\"outlinewidth\":0,\"ticks\":\"\"},\"type\":\"contourcarpet\"}],\"contour\":[{\"colorbar\":{\"outlinewidth\":0,\"ticks\":\"\"},\"colorscale\":[[0.0,\"#0d0887\"],[0.1111111111111111,\"#46039f\"],[0.2222222222222222,\"#7201a8\"],[0.3333333333333333,\"#9c179e\"],[0.4444444444444444,\"#bd3786\"],[0.5555555555555556,\"#d8576b\"],[0.6666666666666666,\"#ed7953\"],[0.7777777777777778,\"#fb9f3a\"],[0.8888888888888888,\"#fdca26\"],[1.0,\"#f0f921\"]],\"type\":\"contour\"}],\"heatmapgl\":[{\"colorbar\":{\"outlinewidth\":0,\"ticks\":\"\"},\"colorscale\":[[0.0,\"#0d0887\"],[0.1111111111111111,\"#46039f\"],[0.2222222222222222,\"#7201a8\"],[0.3333333333333333,\"#9c179e\"],[0.4444444444444444,\"#bd3786\"],[0.5555555555555556,\"#d8576b\"],[0.6666666666666666,\"#ed7953\"],[0.7777777777777778,\"#fb9f3a\"],[0.8888888888888888,\"#fdca26\"],[1.0,\"#f0f921\"]],\"type\":\"heatmapgl\"}],\"heatmap\":[{\"colorbar\":{\"outlinewidth\":0,\"ticks\":\"\"},\"colorscale\":[[0.0,\"#0d0887\"],[0.1111111111111111,\"#46039f\"],[0.2222222222222222,\"#7201a8\"],[0.3333333333333333,\"#9c179e\"],[0.4444444444444444,\"#bd3786\"],[0.5555555555555556,\"#d8576b\"],[0.6666666666666666,\"#ed7953\"],[0.7777777777777778,\"#fb9f3a\"],[0.8888888888888888,\"#fdca26\"],[1.0,\"#f0f921\"]],\"type\":\"heatmap\"}],\"histogram2dcontour\":[{\"colorbar\":{\"outlinewidth\":0,\"ticks\":\"\"},\"colorscale\":[[0.0,\"#0d0887\"],[0.1111111111111111,\"#46039f\"],[0.2222222222222222,\"#7201a8\"],[0.3333333333333333,\"#9c179e\"],[0.4444444444444444,\"#bd3786\"],[0.5555555555555556,\"#d8576b\"],[0.6666666666666666,\"#ed7953\"],[0.7777777777777778,\"#fb9f3a\"],[0.8888888888888888,\"#fdca26\"],[1.0,\"#f0f921\"]],\"type\":\"histogram2dcontour\"}],\"histogram2d\":[{\"colorbar\":{\"outlinewidth\":0,\"ticks\":\"\"},\"colorscale\":[[0.0,\"#0d0887\"],[0.1111111111111111,\"#46039f\"],[0.2222222222222222,\"#7201a8\"],[0.3333333333333333,\"#9c179e\"],[0.4444444444444444,\"#bd3786\"],[0.5555555555555556,\"#d8576b\"],[0.6666666666666666,\"#ed7953\"],[0.7777777777777778,\"#fb9f3a\"],[0.8888888888888888,\"#fdca26\"],[1.0,\"#f0f921\"]],\"type\":\"histogram2d\"}],\"histogram\":[{\"marker\":{\"pattern\":{\"fillmode\":\"overlay\",\"size\":10,\"solidity\":0.2}},\"type\":\"histogram\"}],\"mesh3d\":[{\"colorbar\":{\"outlinewidth\":0,\"ticks\":\"\"},\"type\":\"mesh3d\"}],\"parcoords\":[{\"line\":{\"colorbar\":{\"outlinewidth\":0,\"ticks\":\"\"}},\"type\":\"parcoords\"}],\"pie\":[{\"automargin\":true,\"type\":\"pie\"}],\"scatter3d\":[{\"line\":{\"colorbar\":{\"outlinewidth\":0,\"ticks\":\"\"}},\"marker\":{\"colorbar\":{\"outlinewidth\":0,\"ticks\":\"\"}},\"type\":\"scatter3d\"}],\"scattercarpet\":[{\"marker\":{\"colorbar\":{\"outlinewidth\":0,\"ticks\":\"\"}},\"type\":\"scattercarpet\"}],\"scattergeo\":[{\"marker\":{\"colorbar\":{\"outlinewidth\":0,\"ticks\":\"\"}},\"type\":\"scattergeo\"}],\"scattergl\":[{\"marker\":{\"colorbar\":{\"outlinewidth\":0,\"ticks\":\"\"}},\"type\":\"scattergl\"}],\"scattermapbox\":[{\"marker\":{\"colorbar\":{\"outlinewidth\":0,\"ticks\":\"\"}},\"type\":\"scattermapbox\"}],\"scatterpolargl\":[{\"marker\":{\"colorbar\":{\"outlinewidth\":0,\"ticks\":\"\"}},\"type\":\"scatterpolargl\"}],\"scatterpolar\":[{\"marker\":{\"colorbar\":{\"outlinewidth\":0,\"ticks\":\"\"}},\"type\":\"scatterpolar\"}],\"scatter\":[{\"fillpattern\":{\"fillmode\":\"overlay\",\"size\":10,\"solidity\":0.2},\"type\":\"scatter\"}],\"scatterternary\":[{\"marker\":{\"colorbar\":{\"outlinewidth\":0,\"ticks\":\"\"}},\"type\":\"scatterternary\"}],\"surface\":[{\"colorbar\":{\"outlinewidth\":0,\"ticks\":\"\"},\"colorscale\":[[0.0,\"#0d0887\"],[0.1111111111111111,\"#46039f\"],[0.2222222222222222,\"#7201a8\"],[0.3333333333333333,\"#9c179e\"],[0.4444444444444444,\"#bd3786\"],[0.5555555555555556,\"#d8576b\"],[0.6666666666666666,\"#ed7953\"],[0.7777777777777778,\"#fb9f3a\"],[0.8888888888888888,\"#fdca26\"],[1.0,\"#f0f921\"]],\"type\":\"surface\"}],\"table\":[{\"cells\":{\"fill\":{\"color\":\"#EBF0F8\"},\"line\":{\"color\":\"white\"}},\"header\":{\"fill\":{\"color\":\"#C8D4E3\"},\"line\":{\"color\":\"white\"}},\"type\":\"table\"}]},\"layout\":{\"annotationdefaults\":{\"arrowcolor\":\"#2a3f5f\",\"arrowhead\":0,\"arrowwidth\":1},\"autotypenumbers\":\"strict\",\"coloraxis\":{\"colorbar\":{\"outlinewidth\":0,\"ticks\":\"\"}},\"colorscale\":{\"diverging\":[[0,\"#8e0152\"],[0.1,\"#c51b7d\"],[0.2,\"#de77ae\"],[0.3,\"#f1b6da\"],[0.4,\"#fde0ef\"],[0.5,\"#f7f7f7\"],[0.6,\"#e6f5d0\"],[0.7,\"#b8e186\"],[0.8,\"#7fbc41\"],[0.9,\"#4d9221\"],[1,\"#276419\"]],\"sequential\":[[0.0,\"#0d0887\"],[0.1111111111111111,\"#46039f\"],[0.2222222222222222,\"#7201a8\"],[0.3333333333333333,\"#9c179e\"],[0.4444444444444444,\"#bd3786\"],[0.5555555555555556,\"#d8576b\"],[0.6666666666666666,\"#ed7953\"],[0.7777777777777778,\"#fb9f3a\"],[0.8888888888888888,\"#fdca26\"],[1.0,\"#f0f921\"]],\"sequentialminus\":[[0.0,\"#0d0887\"],[0.1111111111111111,\"#46039f\"],[0.2222222222222222,\"#7201a8\"],[0.3333333333333333,\"#9c179e\"],[0.4444444444444444,\"#bd3786\"],[0.5555555555555556,\"#d8576b\"],[0.6666666666666666,\"#ed7953\"],[0.7777777777777778,\"#fb9f3a\"],[0.8888888888888888,\"#fdca26\"],[1.0,\"#f0f921\"]]},\"colorway\":[\"#636efa\",\"#EF553B\",\"#00cc96\",\"#ab63fa\",\"#FFA15A\",\"#19d3f3\",\"#FF6692\",\"#B6E880\",\"#FF97FF\",\"#FECB52\"],\"font\":{\"color\":\"#2a3f5f\"},\"geo\":{\"bgcolor\":\"white\",\"lakecolor\":\"white\",\"landcolor\":\"white\",\"showlakes\":true,\"showland\":true,\"subunitcolor\":\"#C8D4E3\"},\"hoverlabel\":{\"align\":\"left\"},\"hovermode\":\"closest\",\"mapbox\":{\"style\":\"light\"},\"paper_bgcolor\":\"white\",\"plot_bgcolor\":\"white\",\"polar\":{\"angularaxis\":{\"gridcolor\":\"#EBF0F8\",\"linecolor\":\"#EBF0F8\",\"ticks\":\"\"},\"bgcolor\":\"white\",\"radialaxis\":{\"gridcolor\":\"#EBF0F8\",\"linecolor\":\"#EBF0F8\",\"ticks\":\"\"}},\"scene\":{\"xaxis\":{\"backgroundcolor\":\"white\",\"gridcolor\":\"#DFE8F3\",\"gridwidth\":2,\"linecolor\":\"#EBF0F8\",\"showbackground\":true,\"ticks\":\"\",\"zerolinecolor\":\"#EBF0F8\"},\"yaxis\":{\"backgroundcolor\":\"white\",\"gridcolor\":\"#DFE8F3\",\"gridwidth\":2,\"linecolor\":\"#EBF0F8\",\"showbackground\":true,\"ticks\":\"\",\"zerolinecolor\":\"#EBF0F8\"},\"zaxis\":{\"backgroundcolor\":\"white\",\"gridcolor\":\"#DFE8F3\",\"gridwidth\":2,\"linecolor\":\"#EBF0F8\",\"showbackground\":true,\"ticks\":\"\",\"zerolinecolor\":\"#EBF0F8\"}},\"shapedefaults\":{\"line\":{\"color\":\"#2a3f5f\"}},\"ternary\":{\"aaxis\":{\"gridcolor\":\"#DFE8F3\",\"linecolor\":\"#A2B1C6\",\"ticks\":\"\"},\"baxis\":{\"gridcolor\":\"#DFE8F3\",\"linecolor\":\"#A2B1C6\",\"ticks\":\"\"},\"bgcolor\":\"white\",\"caxis\":{\"gridcolor\":\"#DFE8F3\",\"linecolor\":\"#A2B1C6\",\"ticks\":\"\"}},\"title\":{\"x\":0.05},\"xaxis\":{\"automargin\":true,\"gridcolor\":\"#EBF0F8\",\"linecolor\":\"#EBF0F8\",\"ticks\":\"\",\"title\":{\"standoff\":15},\"zerolinecolor\":\"#EBF0F8\",\"zerolinewidth\":2},\"yaxis\":{\"automargin\":true,\"gridcolor\":\"#EBF0F8\",\"linecolor\":\"#EBF0F8\",\"ticks\":\"\",\"title\":{\"standoff\":15},\"zerolinecolor\":\"#EBF0F8\",\"zerolinewidth\":2}}},\"xaxis\":{\"anchor\":\"y\",\"domain\":[0.0,1.0],\"title\":{\"text\":\"Indicateur\"},\"tickangle\":-10},\"yaxis\":{\"anchor\":\"x\",\"domain\":[0.0,1.0],\"title\":{\"text\":\"Valeur\"}},\"legend\":{\"tracegroupgap\":0},\"title\":{\"text\":\"Indicateurs clés (barres interactives)\"},\"barmode\":\"relative\",\"showlegend\":false},                        {\"responsive\": true}                    ).then(function(){\n",
       "                            \n",
       "var gd = document.getElementById('4b96c701-ad8b-4a86-b492-032f4680169e');\n",
       "var x = new MutationObserver(function (mutations, observer) {{\n",
       "        var display = window.getComputedStyle(gd).display;\n",
       "        if (!display || display === 'none') {{\n",
       "            console.log([gd, 'removed!']);\n",
       "            Plotly.purge(gd);\n",
       "            observer.disconnect();\n",
       "        }}\n",
       "}});\n",
       "\n",
       "// Listen for the removal of the full notebook cells\n",
       "var notebookContainer = gd.closest('#notebook-container');\n",
       "if (notebookContainer) {{\n",
       "    x.observe(notebookContainer, {childList: true});\n",
       "}}\n",
       "\n",
       "// Listen for the clearing of the current output cell\n",
       "var outputEl = gd.closest('.output');\n",
       "if (outputEl) {{\n",
       "    x.observe(outputEl, {childList: true});\n",
       "}}\n",
       "\n",
       "                        })                };                });            </script>        </div>"
      ]
     },
     "metadata": {},
     "output_type": "display_data"
    },
    {
     "name": "stdout",
     "output_type": "stream",
     "text": [
      "Export (HTML) — KPI interactifs : /Users/davidakpovi/challenge_tache1_ANIP/data/processed/kpi_bar_interactif.html\n"
     ]
    }
   ],
   "source": [
    "#8\n",
    "# Interactifs Plotly : Évolution comparée (lignes) + KPI (barres)\n",
    "# Objectif :\n",
    "#   - Visualiser interactivement les grandes tendances temporelles (lignes)\n",
    "#   - Mettre en avant les KPI les plus récents (barres) et exporter en HTML\n",
    "# Prérequis :\n",
    "#   - `df` chargé (avec au moins 'year' + indicateurs)\n",
    "#   - `kpis` construit (liste de dicts avec \"Indicateur\" et \"Valeur\")\n",
    "\n",
    "\n",
    "# 1) Import/availability Plotly\n",
    "if 'PLOTLY_AVAILABLE' not in locals():\n",
    "    try:\n",
    "        import plotly.express as px\n",
    "        PLOTLY_AVAILABLE = True\n",
    "    except Exception:\n",
    "        PLOTLY_AVAILABLE = False\n",
    "else:\n",
    "    # si le flag existe mais px n'est pas importé, on tente\n",
    "    if PLOTLY_AVAILABLE:\n",
    "        try:\n",
    "            import plotly.express as px\n",
    "        except Exception:\n",
    "            PLOTLY_AVAILABLE = False\n",
    "\n",
    "if not PLOTLY_AVAILABLE:\n",
    "    print(\"[INFO] Plotly non disponible : installez-le avec `pip install plotly` pour activer les visuels interactifs.\")\n",
    "else:\n",
    "    # 2) LIGNES INTERACTIVES — Évolution comparée des indicateurs\n",
    "    colonnes = [c for c in [\"population_total\", \"gdp_current_usd\", \"life_expectancy_years\"] if c in df.columns]\n",
    "    if {\"year\"}.issubset(df.columns) and colonnes:\n",
    "        long = df[[\"year\"] + colonnes].melt(id_vars=\"year\", var_name=\"Indicateur\", value_name=\"Valeur\")\n",
    "        fig_lines = px.line(\n",
    "            long, x=\"year\", y=\"Valeur\", color=\"Indicateur\",\n",
    "            title=\"Évolution comparée des indicateurs\",\n",
    "            labels={\"year\": \"Année\"}\n",
    "        )\n",
    "        fig_lines.update_layout(template=\"plotly_white\")\n",
    "        fig_lines.show()\n",
    "\n",
    "        # Export HTML (optionnel)\n",
    "        evo_html = PROCESSED / \"evolution_indicateurs.html\"\n",
    "        fig_lines.write_html(str(evo_html), include_plotlyjs=\"cdn\")\n",
    "        print(\"Export (HTML) — Évolution comparée :\", evo_html)\n",
    "    else:\n",
    "        print(\"[INFO] Colonnes nécessaires manquantes pour l’évolution comparée (attendu : 'year' + au moins un indicateur).\")\n",
    "\n",
    "    # 3) BARRES INTERACTIVES — KPI (à partir de la liste `kpis`)\n",
    "    if 'kpis' in locals() and isinstance(kpis, list) and len(kpis) > 0:\n",
    "        import pandas as pd\n",
    "\n",
    "        df_kpi = pd.DataFrame(kpis)\n",
    "\n",
    "        # Certaines “Valeur” peuvent être formatées en texte (espaces des milliers) → conversion douce\n",
    "        def _to_num(s):\n",
    "            try:\n",
    "                return float(str(s).replace(\" \", \"\"))\n",
    "            except:\n",
    "                return None\n",
    "\n",
    "        df_kpi[\"Valeur_num\"] = df_kpi[\"Valeur\"].apply(_to_num)\n",
    "\n",
    "        fig_kpi = px.bar(\n",
    "            df_kpi, x=\"Indicateur\", y=\"Valeur_num\", text=\"Valeur\",\n",
    "            title=\"Indicateurs clés (barres interactives)\",\n",
    "            labels={\"Indicateur\": \"Indicateur\", \"Valeur_num\": \"Valeur\"}\n",
    "        )\n",
    "        fig_kpi.update_traces(textposition=\"outside\")\n",
    "        fig_kpi.update_layout(template=\"plotly_white\", showlegend=False, xaxis_tickangle=-10)\n",
    "        fig_kpi.show()\n",
    "\n",
    "        # Export HTML (optionnel)\n",
    "        kpi_html = PROCESSED / \"kpi_bar_interactif.html\"\n",
    "        fig_kpi.write_html(str(kpi_html), include_plotlyjs=\"cdn\")\n",
    "        print(\"Export (HTML) — KPI interactifs :\", kpi_html)\n",
    "    else:\n",
    "        print(\"[INFO] KPI non trouvés : assurez-vous que la variable `kpis` est définie avant cette cellule.\")\n"
   ]
  },
  {
   "cell_type": "code",
   "execution_count": 30,
   "id": "a3db568f-9f9c-4d17-9128-5d8625b48099",
   "metadata": {},
   "outputs": [
    {
     "data": {
      "text/markdown": [
       "\n",
       "### Principaux enseignements\n",
       "\n",
       "- **Croissance démographique soutenue** : la population du Bénin augmente régulièrement sur la période observée.  \n",
       "- **Amélioration sanitaire** : l'espérance de vie progresse, signe d'un meilleur accès aux soins et aux conditions de vie.  \n",
       "- **Défis persistants** : la mortalité maternelle diminue, mais reste un enjeu majeur de santé publique.  \n",
       "- **Lien entre économie et santé** : la hausse du PIB par habitant est corrélée à une amélioration des indicateurs de bien-être.  \n",
       "- **Points de vigilance** : certaines fluctuations du PIB réel indiquent des chocs économiques ponctuels nécessitant une analyse approfondie.\n"
      ],
      "text/plain": [
       "<IPython.core.display.Markdown object>"
      ]
     },
     "metadata": {},
     "output_type": "display_data"
    }
   ],
   "source": [
    "#9\n",
    "#Interprétation et storytelling\n",
    "\n",
    "from IPython.display import Markdown, display\n",
    "\n",
    "histoire = \"\"\"\n",
    "### Principaux enseignements\n",
    "\n",
    "- **Croissance démographique soutenue** : la population du Bénin augmente régulièrement sur la période observée.  \n",
    "- **Amélioration sanitaire** : l'espérance de vie progresse, signe d'un meilleur accès aux soins et aux conditions de vie.  \n",
    "- **Défis persistants** : la mortalité maternelle diminue, mais reste un enjeu majeur de santé publique.  \n",
    "- **Lien entre économie et santé** : la hausse du PIB par habitant est corrélée à une amélioration des indicateurs de bien-être.  \n",
    "- **Points de vigilance** : certaines fluctuations du PIB réel indiquent des chocs économiques ponctuels nécessitant une analyse approfondie.\n",
    "\"\"\"\n",
    "display(Markdown(histoire))\n"
   ]
  },
  {
   "cell_type": "code",
   "execution_count": 31,
   "id": "244d7fc8-86cc-4cf9-96a6-bb5c78222fb3",
   "metadata": {},
   "outputs": [
    {
     "name": "stdout",
     "output_type": "stream",
     "text": [
      "Images enregistrées dans : /Users/davidakpovi/challenge_tache1_ANIP/data/processed/figs_tache3\n"
     ]
    }
   ],
   "source": [
    "#10\n",
    "# Export des graphiques statiques\n",
    "# Sauvegarde des graphiques sous forme d’images PNG pour le rapport\n",
    "# 10) Export des graphiques statiques au format PNG\n",
    "# Objectif :\n",
    "#   - Sauvegarder les graphiques principaux sous forme d’images pour une utilisation dans un rapport,\n",
    "#     une présentation ou un tableau de bord externe (ex : PowerPoint, Word, PDF).\n",
    "# Détails :\n",
    "#   1. Crée un dossier dédié : `data/processed/figs_tache3/`.\n",
    "#   2. La fonction `sauvegarder_graphe()` :\n",
    "#        • Vérifie la présence des colonnes nécessaires.\n",
    "#        • Trie les données par année et trace la série temporelle.\n",
    "#        • Sauvegarde chaque figure en haute résolution (160 dpi).\n",
    "#   3. Les graphiques produits sont :\n",
    "#        - `population.png` : évolution de la population totale.\n",
    "#        - `pib.png` : évolution du PIB (USD courants).\n",
    "#        - `esperance_vie.png` : évolution de l’espérance de vie.\n",
    "#        - `mortalite_maternelle.png` : évolution du taux de mortalité maternelle.\n",
    "# Sorties :\n",
    "#   - 4 fichiers PNG enregistrés dans le dossier `figs_tache3/`.\n",
    "#   - Message de confirmation affichant le chemin d’enregistrement.\n",
    "\n",
    "FIGS_DIR = PROCESSED / \"figs_tache3\"\n",
    "FIGS_DIR.mkdir(parents=True, exist_ok=True)\n",
    "\n",
    "def sauvegarder_graphe(col, titre, etiquette_y, nom_fichier, echelle=None):\n",
    "    if {\"year\", col}.issubset(df.columns):\n",
    "        s = df[[\"year\", col]].dropna().drop_duplicates(\"year\").sort_values(\"year\")\n",
    "        if not s.empty:\n",
    "            plt.figure(figsize=(7,4))\n",
    "            y = s[col] / echelle if (echelle and echelle>0) else s[col]\n",
    "            plt.plot(s[\"year\"], y)\n",
    "            plt.title(titre)\n",
    "            plt.xlabel(\"Année\")\n",
    "            plt.ylabel(etiquette_y)\n",
    "            plt.tight_layout()\n",
    "            plt.savefig(FIGS_DIR / nom_fichier, dpi=160)\n",
    "            plt.close()\n",
    "\n",
    "# Enregistrement des principales figures\n",
    "sauvegarder_graphe(\"population_total\", \"Population totale\", \"Personnes\", \"population.png\")\n",
    "sauvegarder_graphe(\"gdp_current_usd\", \"PIB (USD courants)\", \"USD\", \"pib.png\")\n",
    "sauvegarder_graphe(\"life_expectancy_years\", \"Espérance de vie\", \"Années\", \"esperance_vie.png\")\n",
    "sauvegarder_graphe(\"maternal_mortality_ratio\", \"Mortalité maternelle\", \"Pour 100 000 naissances vivantes\", \"mortalite_maternelle.png\")\n",
    "\n",
    "print(\"Images enregistrées dans :\", FIGS_DIR)\n"
   ]
  },
  {
   "cell_type": "code",
   "execution_count": null,
   "id": "1505bfee-b893-4a7d-a44d-7f28e2e3bfc7",
   "metadata": {},
   "outputs": [],
   "source": []
  }
 ],
 "metadata": {
  "kernelspec": {
   "display_name": "Python [conda env:base] *",
   "language": "python",
   "name": "conda-base-py"
  },
  "language_info": {
   "codemirror_mode": {
    "name": "ipython",
    "version": 3
   },
   "file_extension": ".py",
   "mimetype": "text/x-python",
   "name": "python",
   "nbconvert_exporter": "python",
   "pygments_lexer": "ipython3",
   "version": "3.13.5"
  }
 },
 "nbformat": 4,
 "nbformat_minor": 5
}
